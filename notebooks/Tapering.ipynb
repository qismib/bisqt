{
 "cells": [
  {
   "cell_type": "code",
   "execution_count": 1,
   "id": "0f4dafcb-4b6d-41a0-8df8-fbb861b17bcf",
   "metadata": {},
   "outputs": [],
   "source": [
    "%reload_ext autoreload"
   ]
  },
  {
   "cell_type": "code",
   "execution_count": 2,
   "id": "6037b646-27df-4178-b66d-4664950522a6",
   "metadata": {},
   "outputs": [
    {
     "name": "stderr",
     "output_type": "stream",
     "text": [
      "C:\\Users\\User\\OneDrive\\Desktop\\Martina\\Tesi\\tapenv\\lib\\site-packages\\cotengra\\hyperoptimizers\\hyper.py:34: UserWarning: Couldn't import `kahypar` - skipping from default hyper optimizer and using basic `labels` method instead.\n",
      "  warnings.warn(\n"
     ]
    }
   ],
   "source": [
    "%autoreload 2\n",
    "import math\n",
    "import numpy as np\n",
    "\n",
    "from BoseHubbardHamiltonian_class import BoseHubbardHamiltonian\n",
    "\n",
    "from qiskit.quantum_info import Pauli, Operator\n",
    "from qiskit.quantum_info import SparsePauliOp\n",
    "\n",
    "from symmer.operators import PauliwordOp, QuantumState\n",
    "from symmer.projection import QubitTapering \n",
    "\n",
    "import rustworkx as rx\n",
    "from qiskit_nature.second_q.hamiltonians.lattices import (\n",
    "    BoundaryCondition,\n",
    "    HyperCubicLattice,\n",
    "    Lattice,\n",
    "    LatticeDrawStyle,\n",
    "    LineLattice,\n",
    "    SquareLattice,\n",
    "    TriangularLattice,\n",
    ")\n",
    "\n",
    "from symmer.operators import IndependentOp\n",
    "from scipy.linalg import eigh\n",
    "import scipy.sparse"
   ]
  },
  {
   "cell_type": "code",
   "execution_count": 3,
   "id": "02190844-626e-4cfb-aefb-f1702b4fb9ae",
   "metadata": {},
   "outputs": [],
   "source": [
    "#line lattice \n",
    "num_nodes = 3 #number of sites in the lattice \n",
    "boundary_condition = BoundaryCondition.OPEN #open lattice\n",
    "line_lattice = LineLattice(num_nodes=num_nodes, boundary_condition=boundary_condition)"
   ]
  },
  {
   "cell_type": "code",
   "execution_count": 4,
   "id": "9220ef94-279c-4d78-a76f-5fb97eaaefca",
   "metadata": {},
   "outputs": [],
   "source": [
    "#triangular lattice \n",
    "rows = 4\n",
    "cols = 3\n",
    "boundary_condition = BoundaryCondition.PERIODIC\n",
    "\n",
    "triangular_lattice = TriangularLattice(rows=rows, cols=cols, boundary_condition=boundary_condition)"
   ]
  },
  {
   "cell_type": "code",
   "execution_count": 5,
   "id": "909e0c6a-b154-43e9-9242-fc9b8adb2934",
   "metadata": {},
   "outputs": [],
   "source": [
    "#cubic lattice\n",
    "size = (3, 4, 5)\n",
    "boundary_condition = (\n",
    "    BoundaryCondition.OPEN,\n",
    "    BoundaryCondition.OPEN,\n",
    "    BoundaryCondition.OPEN,\n",
    ")\n",
    "cubic_lattice = HyperCubicLattice(size=size, boundary_condition=boundary_condition)\n",
    "\n",
    "# function for setting the positions\n",
    "def indextocoord_3d(index: int, size: tuple, angle) -> list:\n",
    "    z = index // (size[0] * size[1])\n",
    "    a = index % (size[0] * size[1])\n",
    "    y = a // size[0]\n",
    "    x = a % size[0]\n",
    "    vec_x = np.array([1, 0])\n",
    "    vec_y = np.array([np.cos(angle), np.sin(angle)])\n",
    "    vec_z = np.array([0, 1])\n",
    "    return_coord = x * vec_x + y * vec_y + z * vec_z\n",
    "    return return_coord.tolist()\n",
    "\n",
    "\n",
    "pos = dict([(index, indextocoord_3d(index, size, angle=math.pi / 4)) for index in range(np.prod(size))])\n"
   ]
  },
  {
   "cell_type": "code",
   "execution_count": 6,
   "id": "28ad3774-5c53-45e0-a565-693f1fb4a9b9",
   "metadata": {},
   "outputs": [
    {
     "data": {
      "text/plain": [
       "{(1, 0, 1.0), (1, 2, 1.0), (1, 3, 1.0)}"
      ]
     },
     "execution_count": 6,
     "metadata": {},
     "output_type": "execute_result"
    }
   ],
   "source": [
    "#general lattice\n",
    "graph = rx.PyGraph(multigraph=False)  # multigraph shoud be False\n",
    "graph.add_nodes_from(range(4))\n",
    "weighted_edge_list = [\n",
    "    (1, 0, 1.0), \n",
    "    (1, 2, 1.0), \n",
    "    (1, 3, 1.0), \n",
    "]\n",
    "graph.add_edges_from(weighted_edge_list)\n",
    "\n",
    "# make a lattice\n",
    "general_lattice = Lattice(graph)\n",
    "set(general_lattice.graph.weighted_edge_list())"
   ]
  },
  {
   "cell_type": "code",
   "execution_count": 7,
   "id": "d44dd8d5-5834-42f8-ad8e-a8a097a86fa2",
   "metadata": {},
   "outputs": [],
   "source": [
    "#Hamiltonian of the system given the number of sites in the lattice and the number of qubits \n",
    "num_qubits = 2\n",
    "#num_nodes = 3*4*5\n",
    "H_instance = BoseHubbardHamiltonian(num_nodes, num_qubits, line_lattice)\n",
    "H_q = H_instance.get_H(1,3)"
   ]
  },
  {
   "cell_type": "code",
   "execution_count": 8,
   "id": "97f02cfb-b1e7-4900-9b1c-abcaa9f180bc",
   "metadata": {},
   "outputs": [],
   "source": [
    "#Hamiltonian to be tapered\n",
    "H = PauliwordOp.from_qiskit(H_q)\n",
    "#print(H)"
   ]
  },
  {
   "cell_type": "code",
   "execution_count": 9,
   "id": "0d23bc12-dd73-44ba-b1e5-99cbab869f8b",
   "metadata": {},
   "outputs": [
    {
     "data": {
      "text/plain": [
       "1 IZIZIZ"
      ]
     },
     "execution_count": 9,
     "metadata": {},
     "output_type": "execute_result"
    }
   ],
   "source": [
    "#IndipendentOp represents algebraically independent sets of Pauli operators for stabilizer manipulation/projections\n",
    "IndependentOp.symmetry_generators(H, commuting_override=True)"
   ]
  },
  {
   "cell_type": "code",
   "execution_count": 10,
   "id": "96b7bf63-378c-4fcc-b684-a63af7805f04",
   "metadata": {},
   "outputs": [
    {
     "data": {
      "text/plain": [
       "-1 IZIIII"
      ]
     },
     "execution_count": 10,
     "metadata": {},
     "output_type": "execute_result"
    }
   ],
   "source": [
    "taper_hamiltonian = QubitTapering(H)\n",
    "taper_hamiltonian.stabilizers.rotate_onto_single_qubit_paulis()"
   ]
  },
  {
   "cell_type": "code",
   "execution_count": 11,
   "id": "660f8037-f305-4265-82b2-f6c32936860c",
   "metadata": {},
   "outputs": [
    {
     "name": "stdout",
     "output_type": "stream",
     "text": [
      "We are able to taper 1 qubits from the Hamiltonian.\n",
      "\n",
      "The symmetry generators are\n",
      "\n",
      "1 IZIZIZ\n",
      "\n",
      "and may be rotated onto the single-qubit Pauli operators\n",
      "\n",
      "-1 IZIIII\n",
      "\n",
      "via a sequence of rotations e^{i pi/4 R} where\n",
      "\n",
      "R_0 =  1.000+0.000j IYIZIZ\n",
      "R_1 =  1.000+0.000j IYIIII\n"
     ]
    }
   ],
   "source": [
    "print(f'We are able to taper {taper_hamiltonian.n_taper} qubits from the Hamiltonian.\\n')\n",
    "print('The symmetry generators are\\n')\n",
    "print(taper_hamiltonian.symmetry_generators)\n",
    "print('\\nand may be rotated onto the single-qubit Pauli operators\\n')\n",
    "print(taper_hamiltonian.stabilizers.rotate_onto_single_qubit_paulis())\n",
    "print('\\nvia a sequence of rotations e^{i pi/4 R} where\\n')\n",
    "for index, (rot, angle) in enumerate(taper_hamiltonian.stabilizers.stabilizer_rotations):\n",
    "    print(f'R_{index} = {rot}')"
   ]
  },
  {
   "cell_type": "code",
   "execution_count": 12,
   "id": "9a078755-5765-48a3-aacc-32cd05f5d012",
   "metadata": {},
   "outputs": [
    {
     "name": "stdout",
     "output_type": "stream",
     "text": [
      "Tapered Hamiltonian:\n",
      "\n"
     ]
    }
   ],
   "source": [
    "sec_array = [1]\n",
    "ham_tap_p = taper_hamiltonian.taper_it(sector=sec_array)\n",
    "print('Tapered Hamiltonian:\\n')\n",
    "#print(ham_tap_p) #sector = +1"
   ]
  },
  {
   "cell_type": "code",
   "execution_count": 13,
   "id": "765e6a00-b176-4176-938d-f64289c7482a",
   "metadata": {},
   "outputs": [
    {
     "name": "stdout",
     "output_type": "stream",
     "text": [
      "Tapered Hamiltonian:\n",
      "\n"
     ]
    }
   ],
   "source": [
    "sec_array = [-1]\n",
    "ham_tap_n = taper_hamiltonian.taper_it(sector=sec_array)\n",
    "print('Tapered Hamiltonian:\\n')\n",
    "#print(ham_tap_n) #sector = -1"
   ]
  },
  {
   "cell_type": "code",
   "execution_count": 14,
   "id": "c33ac1cb-a801-44aa-a3c8-edb7be89c60f",
   "metadata": {},
   "outputs": [],
   "source": [
    "H_sparse_matrix = H.to_sparse_matrix\n",
    "H_array = H_sparse_matrix.toarray()"
   ]
  },
  {
   "cell_type": "code",
   "execution_count": 15,
   "id": "26615b3d-3f84-40dc-9831-4606da2791ff",
   "metadata": {},
   "outputs": [],
   "source": [
    "np.set_printoptions(precision=20)\n",
    "eigenvalues = eigh(H_array, eigvals_only=True)\n",
    "#print(eigenvalues)"
   ]
  },
  {
   "cell_type": "code",
   "execution_count": 16,
   "id": "95a5c089-8939-4d38-be4d-4e1468e50805",
   "metadata": {},
   "outputs": [],
   "source": [
    "ham_tap_p_sparse_matrix = ham_tap_p.to_sparse_matrix\n",
    "ham_tap_p_array = ham_tap_p_sparse_matrix.toarray()\n",
    "eigenvalues_p = eigh(ham_tap_p_array, eigvals_only=True)\n",
    "np.set_printoptions(precision=20)\n",
    "#print(eigenvalues_p)"
   ]
  },
  {
   "cell_type": "code",
   "execution_count": 17,
   "id": "53a5af2f-a6de-4154-8e74-517cbe05888b",
   "metadata": {},
   "outputs": [],
   "source": [
    "ham_tap_n_sparse_matrix = ham_tap_n.to_sparse_matrix\n",
    "ham_tap_n_array = ham_tap_n_sparse_matrix.toarray()\n",
    "eigenvalues_n = eigh(ham_tap_n_array, eigvals_only=True)\n",
    "np.set_printoptions(precision=20)\n",
    "#print(eigenvalues_n)"
   ]
  },
  {
   "cell_type": "code",
   "execution_count": 18,
   "id": "72f93591-8e36-4bdb-b54a-cffba74055bf",
   "metadata": {},
   "outputs": [],
   "source": [
    "merged_eigenvalues = np.concatenate((eigenvalues_n, eigenvalues_p))\n",
    "merged_eigenvalues_sorted = sorted(merged_eigenvalues)\n",
    "#print(merged_eigenvalues_sorted )"
   ]
  },
  {
   "cell_type": "code",
   "execution_count": 19,
   "id": "2be33887-0c62-4495-8b4a-c1c76218b445",
   "metadata": {},
   "outputs": [
    {
     "name": "stdout",
     "output_type": "stream",
     "text": [
      "64\n"
     ]
    }
   ],
   "source": [
    "print(len(merged_eigenvalues_sorted ))"
   ]
  },
  {
   "cell_type": "code",
   "execution_count": 20,
   "id": "417073a8-7a50-4e1f-abfa-9230829dfaa6",
   "metadata": {},
   "outputs": [],
   "source": [
    "eigenvalues_sorted = sorted(eigenvalues)"
   ]
  },
  {
   "cell_type": "code",
   "execution_count": 21,
   "id": "6a0ebd0a-c078-418c-bdc8-cef5ec523ffe",
   "metadata": {},
   "outputs": [
    {
     "name": "stdout",
     "output_type": "stream",
     "text": [
      "4 <class 'int'>\n"
     ]
    }
   ],
   "source": [
    "N = 2^(num_nodes*num_qubits)\n",
    "\n",
    "# Verifica il valore e il tipo di N\n",
    "print(N, type(N))\n",
    "\n",
    "# Crea l'array con np.arange\n",
    "t = np.arange(0.0, N, 1)"
   ]
  },
  {
   "cell_type": "code",
   "execution_count": 22,
   "id": "2a999207-b389-4c2d-95e7-7db3be9b4177",
   "metadata": {},
   "outputs": [
    {
     "data": {
      "image/png": "[encoded data removed]",
      "text/plain": [
       "<Figure size 640x480 with 1 Axes>"
      ]
     },
     "metadata": {},
     "output_type": "display_data"
    }
   ],
   "source": [
    "import matplotlib.pyplot as plt\n",
    "import numpy as np\n",
    "\n",
    "# Data for plotting\n",
    "t = np.arange(0.0, 64 , 1)\n",
    "s1 = merged_eigenvalues_sorted\n",
    "s2 = eigenvalues_sorted \n",
    "\n",
    "fig, ax = plt.subplots()\n",
    "\n",
    "# Primo set di punti\n",
    "ax.scatter(t, s1, label='H_rid', color = 'b', marker='o', s=15)\n",
    "\n",
    "# Sovrapponi il secondo set di punti\n",
    "ax.scatter(t, s2, label='H_model', color = 'r',  marker='x', s = 120)\n",
    "\n",
    "ax.set(xlabel='', ylabel='Hamiltonian eigenvalues',\n",
    "       title='Eigenvalues of model Hamiltonian H and tapered Hamiltonian H_rid')\n",
    "ax.grid()\n",
    "ax.legend()  # Aggiungi la legenda per distinguere i set di punti\n",
    "\n",
    "ax.set_xticks([])\n",
    "\n",
    "\n",
    "fig.savefig(\"test.png\")\n",
    "plt.show()"
   ]
  },
  {
   "cell_type": "code",
   "execution_count": null,
   "id": "be0c40b8-722f-4291-b2b0-e72937ea2a20",
   "metadata": {},
   "outputs": [],
   "source": []
  }
 ],
 "metadata": {
  "kernelspec": {
   "display_name": "tapenv",
   "language": "python",
   "name": "tapenv"
  },
  "language_info": {
   "codemirror_mode": {
    "name": "ipython",
    "version": 3
   },
   "file_extension": ".py",
   "mimetype": "text/x-python",
   "name": "python",
   "nbconvert_exporter": "python",
   "pygments_lexer": "ipython3",
   "version": "3.10.11"
  }
 },
 "nbformat": 4,
 "nbformat_minor": 5
}
