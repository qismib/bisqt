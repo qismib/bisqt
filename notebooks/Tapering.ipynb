{
 "cells": [
  {
   "cell_type": "code",
   "execution_count": 1,
   "id": "0f4dafcb-4b6d-41a0-8df8-fbb861b17bcf",
   "metadata": {},
   "outputs": [],
   "source": [
    "%reload_ext autoreload"
   ]
  },
  {
   "cell_type": "code",
   "execution_count": 12,
   "id": "6037b646-27df-4178-b66d-4664950522a6",
   "metadata": {},
   "outputs": [],
   "source": [
    "%autoreload 2\n",
    "import math\n",
    "import numpy as np\n",
    "\n",
    "from bisqt import BoseHubbardHamiltonian\n",
    "\n",
    "from qiskit.quantum_info import Pauli, Operator\n",
    "from qiskit.quantum_info import SparsePauliOp\n",
    "from qiskit.opflow import PauliSumOp\n",
    "\n",
    "from symmer.operators import PauliwordOp, QuantumState\n",
    "from symmer.projection import QubitTapering \n",
    "\n",
    "import rustworkx as rx\n",
    "from qiskit_nature.second_q.hamiltonians.lattices import (\n",
    "    BoundaryCondition,\n",
    "    HyperCubicLattice,\n",
    "    Lattice,\n",
    "    LatticeDrawStyle,\n",
    "    LineLattice,\n",
    "    SquareLattice,\n",
    "    TriangularLattice,\n",
    ")\n",
    "\n",
    "from symmer.operators import IndependentOp\n",
    "from scipy.linalg import eigh, eig\n",
    "import scipy.sparse"
   ]
  },
  {
   "cell_type": "code",
   "execution_count": 3,
   "id": "02190844-626e-4cfb-aefb-f1702b4fb9ae",
   "metadata": {},
   "outputs": [],
   "source": [
    "#line lattice \n",
    "num_nodes = 3 #number of sites in the lattice \n",
    "boundary_condition = BoundaryCondition.OPEN #open lattice\n",
    "line_lattice = LineLattice(num_nodes=num_nodes, boundary_condition=boundary_condition)"
   ]
  },
  {
   "cell_type": "code",
   "execution_count": 4,
   "id": "d44dd8d5-5834-42f8-ad8e-a8a097a86fa2",
   "metadata": {},
   "outputs": [],
   "source": [
    "#Hamiltonian of the system given the number of sites in the lattice and the number of qubits\n",
    "num_qubits = 2\n",
    "num_nodes = 3\n",
    "H_instance = BoseHubbardHamiltonian(num_nodes, num_qubits, line_lattice)\n",
    "\n",
    "\n",
    "H_q = H_instance.get_H(1.,1.)\n",
    "H = PauliwordOp.from_qiskit((PauliSumOp(H_q)))\n"
   ]
  },
  {
   "cell_type": "code",
   "execution_count": 5,
   "id": "0d23bc12-dd73-44ba-b1e5-99cbab869f8b",
   "metadata": {},
   "outputs": [
    {
     "data": {
      "text/plain": [
       "1 IZIZIZ"
      ]
     },
     "execution_count": 5,
     "metadata": {},
     "output_type": "execute_result"
    }
   ],
   "source": [
    "#TAPERING\n",
    "\n",
    "#IndipendentOp represents algebraically independent sets of Pauli operators for stabilizer manipulation/projections\n",
    "IndependentOp.symmetry_generators(H)"
   ]
  },
  {
   "cell_type": "code",
   "execution_count": 6,
   "id": "96b7bf63-378c-4fcc-b684-a63af7805f04",
   "metadata": {},
   "outputs": [
    {
     "data": {
      "text/plain": [
       "-1 IXIIII"
      ]
     },
     "execution_count": 6,
     "metadata": {},
     "output_type": "execute_result"
    }
   ],
   "source": [
    "taper_hamiltonian = QubitTapering(H, 'X')\n",
    "taper_hamiltonian.stabilizers.rotate_onto_single_qubit_paulis()\n"
   ]
  },
  {
   "cell_type": "code",
   "execution_count": 10,
   "id": "9a078755-5765-48a3-aacc-32cd05f5d012",
   "metadata": {},
   "outputs": [],
   "source": [
    "#TAPERED HAMILTONIAN +\n",
    "\n",
    "sec_array = [1]\n",
    "#sec_array = [1,1,1,1,1,1]\n",
    "ham_tap_p= taper_hamiltonian.taper_it(sector=sec_array)\n"
   ]
  },
  {
   "cell_type": "code",
   "execution_count": 8,
   "id": "765e6a00-b176-4176-938d-f64289c7482a",
   "metadata": {},
   "outputs": [],
   "source": [
    "#TAPERED HAMILTONIAN -\n",
    "\n",
    "sec_array = [-1]\n",
    "#sec_array = [-1,-1,-1,-1,-1,-1]\n",
    "ham_tap_n= taper_hamiltonian.taper_it(sector=sec_array)\n"
   ]
  }
 ],
 "metadata": {
  "kernelspec": {
   "display_name": "tapenv",
   "language": "python",
   "name": "tapenv"
  },
  "language_info": {
   "codemirror_mode": {
    "name": "ipython",
    "version": 3
   },
   "file_extension": ".py",
   "mimetype": "text/x-python",
   "name": "python",
   "nbconvert_exporter": "python",
   "pygments_lexer": "ipython3",
   "version": "3.10.11"
  }
 },
 "nbformat": 4,
 "nbformat_minor": 5
}
