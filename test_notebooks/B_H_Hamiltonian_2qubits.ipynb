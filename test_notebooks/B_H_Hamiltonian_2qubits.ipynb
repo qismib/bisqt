{
 "cells": [
  {
   "cell_type": "code",
   "execution_count": 2,
   "id": "ec49f352-cb54-4f3c-af42-446e816288f8",
   "metadata": {},
   "outputs": [],
   "source": [
    "import math\n",
    "import numpy as np"
   ]
  },
  {
   "cell_type": "code",
   "execution_count": 3,
   "id": "8caa7d26-1f2f-45ab-8e5a-340e1c2d047c",
   "metadata": {},
   "outputs": [],
   "source": [
    "from qiskit_nature.second_q.hamiltonians.lattices import (\n",
    "    BoundaryCondition,\n",
    "    HyperCubicLattice,\n",
    "    Lattice,\n",
    "    LatticeDrawStyle,\n",
    "    LineLattice,\n",
    "    SquareLattice,\n",
    "    TriangularLattice,\n",
    ")"
   ]
  },
  {
   "cell_type": "code",
   "execution_count": 4,
   "id": "640a407d-a684-4238-908d-f9a77b0ae4e5",
   "metadata": {},
   "outputs": [],
   "source": [
    "num_nodes = 3\n",
    "boundary_condition = BoundaryCondition.OPEN\n",
    "line_lattice = LineLattice(num_nodes=num_nodes, boundary_condition=boundary_condition)"
   ]
  },
  {
   "cell_type": "code",
   "execution_count": 6,
   "id": "e53f0b89-3ed3-4930-8756-c68b37cbc3b1",
   "metadata": {},
   "outputs": [
    {
     "name": "stdout",
     "output_type": "stream",
     "text": [
      "<qiskit_nature.second_q.hamiltonians.lattices.line_lattice.LineLattice object at 0x00000242B409C760>\n"
     ]
    }
   ],
   "source": [
    "line_lattice.to_adjacency_matrix()\n",
    "print(line_lattice)"
   ]
  },
  {
   "cell_type": "code",
   "execution_count": 10,
   "id": "c670640b-5c67-4e64-baf3-e04b927337fb",
   "metadata": {},
   "outputs": [
    {
     "data": {
      "image/png": "[encoded data removed]",
      "text/plain": [
       "<Figure size 640x480 with 1 Axes>"
      ]
     },
     "metadata": {},
     "output_type": "display_data"
    }
   ],
   "source": [
    "line_lattice.draw()"
   ]
  },
  {
   "cell_type": "code",
   "execution_count": 2,
   "id": "850f62e9-a6f6-4117-948d-85b370393c4d",
   "metadata": {},
   "outputs": [],
   "source": [
    "from qiskit.quantum_info import Pauli, Operator\n",
    "from qiskit.quantum_info import SparsePauliOp\n",
    "\n",
    "class BoseHubbardHamiltonian_2qubits:\n",
    "    \n",
    "    def __init__(self, n_sites, single_site_qubits, encoding, geometry):\n",
    "        \n",
    "        # n_sites (int) = number of sites in the lattice\n",
    "        # single_site_qubits (int) = number of qubits used to describe each site\n",
    "        # encoding (string) = type of qubit mapping \n",
    "        # geometry (LineLattice or another type of lattice) = how the sites are distributed in space and their connectivity \n",
    "              \n",
    "        self.n_sites = n_sites\n",
    "        self.ss_q = single_site_qubits\n",
    "        self.n_qubits = self.n_sites * self.ss_q\n",
    "        self.encoding = encoding\n",
    "        self.geometry = geometry.to_adjacency_matrix() # the adjacency matrix gives informations about the sites' connectivity\n",
    "\n",
    "        # Returns the bosonic creation, annihilation, and number operators acting on the system, which is mapped to qubits using the chosen encoding\n",
    "        def second_quantization_ops(self):\n",
    "                \n",
    "            Y = Pauli('Y')\n",
    "            X = Pauli('X')\n",
    "            Z = Pauli('Z')\n",
    "            I = Pauli('I')\n",
    "\n",
    "            self.sigmaP = SparsePauliOp([X, Y], coeffs = [0.5, 0.5j])\n",
    "            self.sigmaM = SparsePauliOp([X, Y], coeffs = [0.5, -0.5j])\n",
    "\n",
    "            self.I_P = SparsePauliOp([I, Z], coeffs = [0.5, 0.5]) \n",
    "            self.I_M = SparsePauliOp([I, Z], coeffs = [0.5, -0.5])\n",
    "\n",
    "            self.I_q = SparsePauliOp(['II'], coeffs = [1]) #identità su 2 qubit \n",
    "            self.I_3 = I_q^I_q^I_q  #identità su 6 qubit\n",
    "        \n",
    "            \n",
    "            if self.encoding == \"binary\" and self.ss_q == 2:\n",
    "         \n",
    "                self.create = (self.I_P ^ self.sigmaM)+ math.sqrt(2)*(self.sigmaM ^ self.sigmaP) + math.sqrt(3)*(self.I_M ^ self.sigmaM) #sum of SparsePauliOps\n",
    "                self.annihilate = self.create.adjoint()\n",
    "                number = self.create.compose(self.annihilate).simplify()\n",
    "\n",
    "        #construction of the total kinect energy operator based on the connectivity of the system: hypotesis of nearest neighbour hopping   \n",
    "        def kinetic_energy_op(self): \n",
    "\n",
    "            self.Op = [I_q, I_q, I_q]\n",
    "            self.kin=[]\n",
    "            \n",
    "            for i in range(self.n_sites): \n",
    "                for j in range(self.n_sites):\n",
    "        \n",
    "                    u = 2\n",
    "                    while ( u >= 0 ):\n",
    "                        if (u != i and u != j):\n",
    "            \n",
    "                            if i != j and self.geometry[i][j] != 0:\n",
    "                                self.Op[i] = self.annihilate\n",
    "                                self.Op[j] = self.create\n",
    "                                self.Op[u] = self.I_q\n",
    "\n",
    "                                self.kin.append(self.Op[i]^self.Op[j]^self.Op[u])\n",
    "                        \n",
    "                        u = u - 1\n",
    "\n",
    "            self.Kinetic_op = sum(self.kin).simplify()\n",
    "        \n",
    "        #construction of the interaction term of the hamiltionian \n",
    "        def potential_energy_op(self):\n",
    "                \n",
    "            \n",
    "            self.Op = [I_q, I_q, I_q]\n",
    "            self.number_tot = []\n",
    "            self.potent = []\n",
    "           \n",
    "            for i in range(M): \n",
    "                self.Op[i] = number\n",
    "                self.number_tot.append((self.Op[0]^self.Op[1]^self.Op[2]))\n",
    "                self.Op[i] = self.I_q\n",
    "                    \n",
    "            for i in range(M):\n",
    "                self.potent.append(self.number_tot[i].compose(self.number_tot[i] - self.I_3))\n",
    "\n",
    "            self.Potential_op = sum(self.potent).simplify()\n",
    "    \n",
    "              \n",
    "        # Returns the qubit hamiltonian given the kinetic and potential coefficients.\n",
    "        def get_H(self, J, U):\n",
    "            self.U = U\n",
    "            self.J = J\n",
    "            H = J*self.Kinetic_op + U*self.Potential_op\n",
    "            return H\n",
    "        "
   ]
  },
  {
   "cell_type": "code",
   "execution_count": 6,
   "id": "60090fdb-7f1a-4682-a4c5-abea01feed31",
   "metadata": {},
   "outputs": [
    {
     "name": "stdout",
     "output_type": "stream",
     "text": [
      "[[0.+0.j 0.+0.j]\n",
      " [0.+0.j 1.+0.j]]\n",
      "\n",
      " [[1.+0.j 0.+0.j]\n",
      " [0.+0.j 0.+0.j]]\n"
     ]
    }
   ],
   "source": [
    "#controllo\n",
    "\n",
    "Y = Pauli('Y')\n",
    "X = Pauli('X')\n",
    "Z = Pauli('Z')\n",
    "I = Pauli('I')\n",
    "\n",
    "sigmaP = SparsePauliOp([X, Y], coeffs = [0.5, 0.5j])\n",
    "sigmaM = SparsePauliOp([X, Y], coeffs = [0.5, -0.5j])\n",
    "\n",
    "I_P = SparsePauliOp([I, Z], coeffs = [0.5, 0.5])\n",
    "I_M = SparsePauliOp([I, Z], coeffs = [0.5, -0.5])\n",
    "\n",
    "I_M_matrix_representation = I_M.to_matrix()\n",
    "I_P_matrix_representation = I_P.to_matrix()\n",
    "\n",
    "print(I_M_matrix_representation)\n",
    "print(\"\\n\", I_P_matrix_representation)"
   ]
  },
  {
   "cell_type": "code",
   "execution_count": 7,
   "id": "6810b8d1-0969-4fe3-a202-564c5cc223e5",
   "metadata": {},
   "outputs": [
    {
     "name": "stdout",
     "output_type": "stream",
     "text": [
      "[[0.        +0.j 0.        +0.j 0.        +0.j 0.        +0.j]\n",
      " [1.        +0.j 0.        +0.j 0.        +0.j 0.        +0.j]\n",
      " [0.        +0.j 1.41421356+0.j 0.        +0.j 0.        +0.j]\n",
      " [0.        +0.j 0.        +0.j 1.73205081+0.j 0.        +0.j]]\n",
      "\n",
      " [[0.        +0.j 1.        +0.j 0.        +0.j 0.        +0.j]\n",
      " [0.        +0.j 0.        +0.j 1.41421356+0.j 0.        +0.j]\n",
      " [0.        +0.j 0.        +0.j 0.        +0.j 1.73205081+0.j]\n",
      " [0.        +0.j 0.        +0.j 0.        +0.j 0.        +0.j]]\n",
      "\n",
      " [[1.+0.j 0.+0.j 0.+0.j 0.+0.j]\n",
      " [0.+0.j 2.+0.j 0.+0.j 0.+0.j]\n",
      " [0.+0.j 0.+0.j 3.+0.j 0.+0.j]\n",
      " [0.+0.j 0.+0.j 0.+0.j 0.+0.j]]\n"
     ]
    }
   ],
   "source": [
    "#controllo\n",
    "\n",
    "create = (I_P^sigmaM)+ math.sqrt(2)*(sigmaM^sigmaP) + math.sqrt(3)*(I_M^sigmaM) \n",
    "#create = ((I_P^sigmaM).add( math.sqrt(2)*(sigmaM^sigmaP))).add( math.sqrt(3)*(I_M^sigmaM)) #errore add(): non è un metodo di SparsePauliOp (deprecated??)\n",
    "\n",
    "#annihilate = SparsePauliOp.adjoint(create)\n",
    "annihilate = create.adjoint()\n",
    "number = SparsePauliOp.compose(create,annihilate).simplify()\n",
    "\n",
    "create_rep = create.to_matrix()\n",
    "print(create_rep)\n",
    "\n",
    "print(\"\\n\", annihilate.to_matrix())\n",
    "\n",
    "print(\"\\n\", number.to_matrix())\n"
   ]
  },
  {
   "cell_type": "code",
   "execution_count": 8,
   "id": "1421360c-d937-4a54-998e-62a9437cebef",
   "metadata": {},
   "outputs": [
    {
     "name": "stdout",
     "output_type": "stream",
     "text": [
      "SparsePauliOp(['IXIXII', 'IXIYII', 'IXZXII', 'IXZYII', 'IXXXII', 'IXXYII', 'IXYXII', 'IXYYII', 'IYIXII', 'IYIYII', 'IYZXII', 'IYZYII', 'IYXXII', 'IYXYII', 'IYYXII', 'IYYYII', 'ZXIXII', 'ZXIYII', 'ZXZXII', 'ZXZYII', 'ZXXXII', 'ZXXYII', 'ZXYXII', 'ZXYYII', 'ZYIXII', 'ZYIYII', 'ZYZXII', 'ZYZYII', 'ZYXXII', 'ZYXYII', 'ZYYXII', 'ZYYYII', 'XXIXII', 'XXIYII', 'XXZXII', 'XXZYII', 'XXXXII', 'XXXYII', 'XXYXII', 'XXYYII', 'XYIXII', 'XYIYII', 'XYZXII', 'XYZYII', 'XYXXII', 'XYXYII', 'XYYXII', 'XYYYII', 'YXIXII', 'YXIYII', 'YXZXII', 'YXZYII', 'YXXXII', 'YXXYII', 'YXYXII', 'YXYYII', 'YYIXII', 'YYIYII', 'YYZXII', 'YYZYII', 'YYXXII', 'YYXYII', 'YYYXII', 'YYYYII'],\n",
      "              coeffs=[ 1.8660254 +0.j        ,  0.        -1.8660254j , -0.5       +0.j        ,\n",
      "  0.        +0.5j       ,  0.96592583+0.j        ,  0.        +0.96592583j,\n",
      "  0.        -0.96592583j,  0.96592583+0.j        ,  0.        +1.8660254j ,\n",
      "  1.8660254 +0.j        ,  0.        -0.5j       , -0.5       +0.j        ,\n",
      "  0.        +0.96592583j, -0.96592583+0.j        ,  0.96592583+0.j        ,\n",
      "  0.        +0.96592583j, -0.5       +0.j        ,  0.        +0.5j       ,\n",
      "  0.1339746 +0.j        ,  0.        -0.1339746j , -0.25881905+0.j        ,\n",
      "  0.        -0.25881905j,  0.        +0.25881905j, -0.25881905+0.j        ,\n",
      "  0.        -0.5j       , -0.5       +0.j        ,  0.        +0.1339746j ,\n",
      "  0.1339746 +0.j        ,  0.        -0.25881905j,  0.25881905+0.j        ,\n",
      " -0.25881905+0.j        ,  0.        -0.25881905j,  0.96592583+0.j        ,\n",
      "  0.        -0.96592583j, -0.25881905+0.j        ,  0.        +0.25881905j,\n",
      "  0.5       +0.j        ,  0.        +0.5j       ,  0.        -0.5j       ,\n",
      "  0.5       +0.j        ,  0.        -0.96592583j, -0.96592583+0.j        ,\n",
      "  0.        +0.25881905j,  0.25881905+0.j        ,  0.        -0.5j       ,\n",
      "  0.5       +0.j        , -0.5       +0.j        ,  0.        -0.5j       ,\n",
      "  0.        +0.96592583j,  0.96592583+0.j        ,  0.        -0.25881905j,\n",
      " -0.25881905+0.j        ,  0.        +0.5j       , -0.5       +0.j        ,\n",
      "  0.5       +0.j        ,  0.        +0.5j       ,  0.96592583+0.j        ,\n",
      "  0.        -0.96592583j, -0.25881905+0.j        ,  0.        +0.25881905j,\n",
      "  0.5       +0.j        ,  0.        +0.5j       ,  0.        -0.5j       ,\n",
      "  0.5       +0.j        ])\n"
     ]
    }
   ],
   "source": [
    "#controllo\n",
    "geometry = line_lattice.to_adjacency_matrix()\n",
    "\n",
    "#print(geometry)\n",
    "#print(type(geometry))\n",
    "\n",
    "struct = geometry.shape\n",
    "M = struct[0]\n",
    "N = struct[1]\n",
    "\n",
    "Op = [I, I, I]\n",
    "\n",
    "kin=[]\n",
    "#construction of the total kinect energy operator\n",
    "for i in range(M): \n",
    "    for j in range(N):\n",
    "        \n",
    "        u = 2\n",
    "        while ( u >= 0 ):\n",
    "            if (u != i and u != j):\n",
    "            \n",
    "                if i != j and geometry[i][j] != 0:\n",
    "                    Op[i] = annihilate\n",
    "                    Op[j] = create\n",
    "                    Op[u] = I^I\n",
    "\n",
    "                    kin.append(Op[i]^Op[j]^Op[u])\n",
    "            u = u - 1\n",
    "\n",
    "k = sum(kin).simplify()\n",
    "print(k)\n",
    "       "
   ]
  },
  {
   "cell_type": "code",
   "execution_count": 9,
   "id": "63d39682-e537-4478-90fc-a7f7c80d8946",
   "metadata": {},
   "outputs": [
    {
     "name": "stdout",
     "output_type": "stream",
     "text": [
      "SparsePauliOp(['IIIIII', 'IZIIII', 'ZZIIII', 'ZIIIII', 'IIIZII', 'IIZZII', 'IIZIII', 'IIIIIZ', 'IIIIZZ', 'IIIIZI'],\n",
      "              coeffs=[ 6.+0.j,  1.+0.j, -2.+0.j, -1.+0.j,  1.+0.j, -2.+0.j, -1.+0.j,  1.+0.j,\n",
      " -2.+0.j, -1.+0.j])\n"
     ]
    }
   ],
   "source": [
    "#controllo\n",
    "geometry = line_lattice.to_adjacency_matrix()\n",
    "\n",
    "struct = geometry.shape\n",
    "M = struct[0]\n",
    "N = struct[1]\n",
    "\n",
    "I_q = SparsePauliOp(['II'], coeffs = [1]) #identità su 2 qubit    \n",
    "I_3 = I_q^I_q^I_q\n",
    "Op = [I_q, I_q, I_q]\n",
    "number_tot = []\n",
    "potent = []\n",
    "           \n",
    "for i in range(M): \n",
    "        Op[i] = number\n",
    "       \n",
    "        number_tot.append((Op[0]^Op[1]^Op[2]))\n",
    "                    \n",
    "        Op[i] = I_q\n",
    "                    \n",
    "for i in range(M):\n",
    "        potent.append( number_tot[i].compose(number_tot[i] - I_3))\n",
    "\n",
    "Potential_op = sum(potent).simplify()\n",
    "print(Potential_op)"
   ]
  },
  {
   "cell_type": "code",
   "execution_count": null,
   "id": "b635b906-745a-4b09-bc54-880f664a3566",
   "metadata": {},
   "outputs": [],
   "source": []
  }
 ],
 "metadata": {
  "kernelspec": {
   "display_name": "tapenv",
   "language": "python",
   "name": "tapenv"
  },
  "language_info": {
   "codemirror_mode": {
    "name": "ipython",
    "version": 3
   },
   "file_extension": ".py",
   "mimetype": "text/x-python",
   "name": "python",
   "nbconvert_exporter": "python",
   "pygments_lexer": "ipython3",
   "version": "3.10.11"
  }
 },
 "nbformat": 4,
 "nbformat_minor": 5
}
