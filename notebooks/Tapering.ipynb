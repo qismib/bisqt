{
 "cells": [
  {
   "cell_type": "code",
   "execution_count": 1,
   "id": "0f4dafcb-4b6d-41a0-8df8-fbb861b17bcf",
   "metadata": {},
   "outputs": [],
   "source": [
    "%reload_ext autoreload"
   ]
  },
  {
   "cell_type": "code",
   "execution_count": 2,
   "id": "6037b646-27df-4178-b66d-4664950522a6",
   "metadata": {},
   "outputs": [
    {
     "name": "stderr",
     "output_type": "stream",
     "text": [
      "C:\\Users\\User\\OneDrive\\Desktop\\Martina\\Tesi\\tapenv\\lib\\site-packages\\cotengra\\hyperoptimizers\\hyper.py:34: UserWarning: Couldn't import `kahypar` - skipping from default hyper optimizer and using basic `labels` method instead.\n",
      "  warnings.warn(\n"
     ]
    }
   ],
   "source": [
    "%autoreload 2\n",
    "import math\n",
    "import numpy as np\n",
    "\n",
    "from BoseHubbardHamiltonian_class import BoseHubbardHamiltonian\n",
    "\n",
    "from qiskit.quantum_info import Pauli, Operator\n",
    "from qiskit.quantum_info import SparsePauliOp\n",
    "\n",
    "from symmer.operators import PauliwordOp, QuantumState\n",
    "from symmer.projection import QubitTapering \n",
    "\n",
    "import rustworkx as rx\n",
    "from qiskit_nature.second_q.hamiltonians.lattices import (\n",
    "    BoundaryCondition,\n",
    "    HyperCubicLattice,\n",
    "    Lattice,\n",
    "    LatticeDrawStyle,\n",
    "    LineLattice,\n",
    "    SquareLattice,\n",
    "    TriangularLattice,\n",
    ")\n",
    "\n",
    "from symmer.operators import IndependentOp\n",
    "from scipy.linalg import eigh, eig\n",
    "import scipy.sparse"
   ]
  },
  {
   "cell_type": "code",
   "execution_count": 3,
   "id": "02190844-626e-4cfb-aefb-f1702b4fb9ae",
   "metadata": {},
   "outputs": [],
   "source": [
    "#line lattice \n",
    "num_nodes = 3 #number of sites in the lattice \n",
    "boundary_condition = BoundaryCondition.OPEN #open lattice\n",
    "line_lattice = LineLattice(num_nodes=num_nodes, boundary_condition=boundary_condition)"
   ]
  },
  {
   "cell_type": "code",
   "execution_count": 35,
   "id": "795f6b56-faea-480f-b6b2-6986fc70ccbf",
   "metadata": {},
   "outputs": [],
   "source": [
    "param_ratio_list = [] #t/U values list\n",
    "\n",
    "H_eigenvalues_matrix_1 = [] #original Hamiltonian eigenvalues \n",
    "H_eigenvalues_constrained_matrix_1 = [] #selected eigenvalues method 1"
   ]
  },
  {
   "cell_type": "code",
   "execution_count": 36,
   "id": "22406c5f-6f49-4982-8b78-5f71fc12250a",
   "metadata": {},
   "outputs": [],
   "source": [
    "H_eigenvalues_matrix = [] #original Hamiltonian eigenvalues \n",
    "H_eigenvalues_constrained_matrix = [] #selected eigenvalues method 2"
   ]
  },
  {
   "cell_type": "code",
   "execution_count": 25,
   "id": "d44dd8d5-5834-42f8-ad8e-a8a097a86fa2",
   "metadata": {},
   "outputs": [],
   "source": [
    "#Hamiltonian of the system given the number of sites in the lattice and the number of qubits\n",
    "num_qubits = 2\n",
    "num_nodes = 3\n",
    "H_instance = BoseHubbardHamiltonian(num_nodes, num_qubits, line_lattice)\n",
    "\n",
    "energy_values =[1.,1.]\n",
    "energy_param_ratio = energy_values[0]/energy_values[1]\n",
    "\n",
    "H_q = H_instance.get_H(energy_values[0],energy_values[1])\n",
    "H = PauliwordOp.from_qiskit(H_q)\n",
    "#print(H)"
   ]
  },
  {
   "cell_type": "code",
   "execution_count": 41,
   "id": "771b6aeb-a735-4c94-8459-d7f9615542ec",
   "metadata": {},
   "outputs": [],
   "source": [
    "param_ratio_list.append(energy_param_ratio)"
   ]
  },
  {
   "cell_type": "code",
   "execution_count": 37,
   "id": "ad0df0d5-fe3e-4b6f-9f3a-9f608c58e8db",
   "metadata": {},
   "outputs": [],
   "source": [
    "\n",
    "H_sparse_matrix = H.to_sparse_matrix\n",
    "H_array = H_sparse_matrix.toarray()\n",
    "H_eigenvalues, H_eigenvectors =eig(H_array)\n",
    "\n",
    "A = np.max(H_eigenvalues) -  np.min(H_eigenvalues)"
   ]
  },
  {
   "cell_type": "code",
   "execution_count": 38,
   "id": "c8ba2138-348e-42da-bab5-8a71042fb0ed",
   "metadata": {},
   "outputs": [],
   "source": [
    "#METHOD 1 EIGENVALUES SELECTION\n",
    "H_constrained_sparse = H_q + H_instance.eigenvalues_selection_op(A, 1)\n",
    "#print(H_constrained_sparse)"
   ]
  },
  {
   "cell_type": "code",
   "execution_count": 10,
   "id": "352cbeb1-9bd5-4853-af52-3e65a110e4bf",
   "metadata": {},
   "outputs": [],
   "source": [
    "#H_constrained_sparse = H_instance.get_H_constrained(energy_values[0],energy_values[1], A , 0)"
   ]
  },
  {
   "cell_type": "code",
   "execution_count": 42,
   "id": "b6fd1180-a3f1-44ba-a467-67233812419d",
   "metadata": {},
   "outputs": [
    {
     "name": "stdout",
     "output_type": "stream",
     "text": [
      "[ 2.82842712e+00+0.j -5.91785369e-15+0.j]\n"
     ]
    }
   ],
   "source": [
    "H_constrained = PauliwordOp.from_qiskit(H_constrained_sparse)\n",
    "H_constrained_sparse_matrix = H_constrained.to_sparse_matrix\n",
    "H_constrained_array = H_constrained_sparse_matrix.toarray()\n",
    "H_constrained_eigenvalues, H_constrained_eigenvectors =eig(H_constrained_array)\n",
    "\n",
    "H_constrained_ok_eigenvalues = H_constrained_eigenvalues[np.isclose(H_constrained_eigenvalues, H_eigenvalues, atol=1)]\n",
    "print(H_constrained_ok_eigenvalues) "
   ]
  },
  {
   "cell_type": "code",
   "execution_count": 43,
   "id": "8c11c791-d17b-429e-82d6-c139779ce084",
   "metadata": {},
   "outputs": [
    {
     "name": "stdout",
     "output_type": "stream",
     "text": [
      "[array([3.37339302+0.j]), array([ 2.82842712e+00+0.j, -5.91785369e-15+0.j])]\n"
     ]
    }
   ],
   "source": [
    "H_eigenvalues_matrix_1.append(H_eigenvalues)\n",
    "H_eigenvalues_constrained_matrix_1.append(H_constrained_ok_eigenvalues)\n",
    "print(H_eigenvalues_constrained_matrix_1)"
   ]
  },
  {
   "cell_type": "code",
   "execution_count": 44,
   "id": "783ded27-3db9-45f9-a689-daf9d788a4f2",
   "metadata": {},
   "outputs": [
    {
     "name": "stderr",
     "output_type": "stream",
     "text": [
      "C:\\Users\\User\\OneDrive\\Desktop\\Martina\\Tesi\\tapenv\\lib\\site-packages\\numpy\\lib\\type_check.py:160: VisibleDeprecationWarning: Creating an ndarray from ragged nested sequences (which is a list-or-tuple of lists-or-tuples-or ndarrays with different lengths or shapes) is deprecated. If you meant to do this, you must specify 'dtype=object' when creating the ndarray.\n",
      "  return asanyarray(val).real\n"
     ]
    },
    {
     "data": {
      "image/png": "[encoded data removed]",
      "text/plain": [
       "<Figure size 640x480 with 1 Axes>"
      ]
     },
     "metadata": {},
     "output_type": "display_data"
    }
   ],
   "source": [
    "import matplotlib.pyplot as plt\n",
    "import numpy as np\n",
    "\n",
    "x_values = np.real(param_ratio_list)\n",
    "y_values = np.real(H_eigenvalues_matrix_1)\n",
    "y_constrained = np.real(H_eigenvalues_constrained_matrix_1)\n",
    "\n",
    "for i in range(len(x_values)):\n",
    "    plt.scatter([x_values[i]] * len(y_values[i]), y_values[i], marker='o', label=f'Dataset {i+1}', color = 'b')\n",
    "\n",
    "for i in range(len(x_values)):\n",
    "    plt.scatter([x_values[i]] * len(y_constrained[i]), y_constrained[i], marker='x', label=f'Constrained Dataset {i+1}', color='red')\n",
    "\n",
    "plt.xlabel('t/U')\n",
    "plt.ylabel('Valore')\n",
    "\n",
    "plt.title('Physical Eigenvalues model Hamiltonian ')\n",
    "\n",
    "\n",
    "plt.show()"
   ]
  },
  {
   "cell_type": "code",
   "execution_count": 45,
   "id": "f2206bd8-e29d-40f5-8418-85d53f0a0cf7",
   "metadata": {},
   "outputs": [],
   "source": [
    "#METHOD 2 EIGENVALUES SELECTION\n",
    "\n",
    "H_instance.total_number\n",
    "total_number = PauliwordOp.from_qiskit(H_instance.total_number)\n",
    "\n",
    "total_number_matrix = H.to_sparse_matrix\n",
    "total_number_array = H_sparse_matrix.toarray()\n",
    "\n",
    "\n",
    "H_eigenvectors_normalized = []\n",
    "for eigenvector in H_eigenvectors:\n",
    "    norm = np.linalg.norm(eigenvector)  \n",
    "    eigenvector_normalized = eigenvector / norm\n",
    "    H_eigenvectors_normalized.append(eigenvector_normalized)\n",
    "\n",
    "expectation_value = []\n",
    "for i in range(len(H_eigenvectors_normalized)):\n",
    "    expectation_value.append(np.dot(np.conj(np.array(H_eigenvectors_normalized[i])).T, np.dot(total_number_array, np.array(H_eigenvectors_normalized[i])))) \n",
    "\n",
    "\n",
    "H_eigenvalues_ok = []\n",
    "for i in range(len(H_eigenvectors)):\n",
    "    if expectation_value[i] <= 3 and np.isclose(expectation_value[i], np.round(expectation_value[i])) :\n",
    "        H_eigenvalues_ok.append(H_eigenvalues[i])\n",
    "\n"
   ]
  },
  {
   "cell_type": "code",
   "execution_count": 46,
   "id": "b7a42152-2499-41ba-a008-80c43c22a24f",
   "metadata": {},
   "outputs": [],
   "source": [
    "H_eigenvalues_matrix.append(H_eigenvalues)\n",
    "#print(H_eigenvalues_matrix)\n",
    "H_eigenvalues_constrained_matrix.append(H_eigenvalues_ok)"
   ]
  },
  {
   "cell_type": "code",
   "execution_count": 33,
   "id": "a885c8db-6b29-4ee8-b035-9b16302e1877",
   "metadata": {},
   "outputs": [
    {
     "name": "stderr",
     "output_type": "stream",
     "text": [
      "C:\\Users\\User\\OneDrive\\Desktop\\Martina\\Tesi\\tapenv\\lib\\site-packages\\numpy\\lib\\type_check.py:160: VisibleDeprecationWarning: Creating an ndarray from ragged nested sequences (which is a list-or-tuple of lists-or-tuples-or ndarrays with different lengths or shapes) is deprecated. If you meant to do this, you must specify 'dtype=object' when creating the ndarray.\n",
      "  return asanyarray(val).real\n"
     ]
    },
    {
     "data": {
      "image/png": "[encoded data removed]",
      "text/plain": [
       "<Figure size 640x480 with 1 Axes>"
      ]
     },
     "metadata": {},
     "output_type": "display_data"
    }
   ],
   "source": [
    "import matplotlib.pyplot as plt\n",
    "import numpy as np\n",
    "\n",
    "x_values = np.real(param_ratio_list)\n",
    "y_values = np.real(H_eigenvalues_matrix)\n",
    "y_constrained = np.real(H_eigenvalues_constrained_matrix)\n",
    "\n",
    "for i in range(len(x_values)):\n",
    "    plt.scatter([x_values[i]] * len(y_values[i]), y_values[i], marker='o', label=f'Dataset {i+1}', color = 'b')\n",
    "\n",
    "for i in range(len(x_values)):\n",
    "    plt.scatter([x_values[i]] * len(y_constrained[i]), y_constrained[i], marker='x', label=f'Constrained Dataset {i+1}', color='red')\n",
    "\n",
    "plt.xlabel('t/U')\n",
    "plt.ylabel('Valore')\n",
    "\n",
    "plt.title('Physical Eigenvalues model Hamiltonian ')\n",
    "\n",
    "\n",
    "plt.show()"
   ]
  },
  {
   "cell_type": "code",
   "execution_count": 24,
   "id": "0d23bc12-dd73-44ba-b1e5-99cbab869f8b",
   "metadata": {},
   "outputs": [
    {
     "data": {
      "text/plain": [
       "1 IZIZIZ"
      ]
     },
     "execution_count": 24,
     "metadata": {},
     "output_type": "execute_result"
    }
   ],
   "source": [
    "#TAPERING\n",
    "\n",
    "#IndipendentOp represents algebraically independent sets of Pauli operators for stabilizer manipulation/projections\n",
    "IndependentOp.symmetry_generators(H, commuting_override=True)"
   ]
  },
  {
   "cell_type": "code",
   "execution_count": 18,
   "id": "96b7bf63-378c-4fcc-b684-a63af7805f04",
   "metadata": {},
   "outputs": [
    {
     "data": {
      "text/plain": [
       "-1 IZIIII"
      ]
     },
     "execution_count": 18,
     "metadata": {},
     "output_type": "execute_result"
    }
   ],
   "source": [
    "taper_hamiltonian = QubitTapering(H)\n",
    "taper_hamiltonian.stabilizers.rotate_onto_single_qubit_paulis()\n"
   ]
  },
  {
   "cell_type": "code",
   "execution_count": 19,
   "id": "9a078755-5765-48a3-aacc-32cd05f5d012",
   "metadata": {},
   "outputs": [],
   "source": [
    "#TAPERED HAMILTONIAN +\n",
    "\n",
    "sec_array = [1]\n",
    "#sec_array = [1,1,1,1,1,1]\n",
    "ham_tap_p= taper_hamiltonian.taper_it(sector=sec_array)\n",
    "number_tap_p= taper_hamiltonian.taper_it(sector=sec_array, aux_operator=total_number)\n",
    "#print(ham_tap_p)\n",
    "#print(\"\\n\",number_tapered)"
   ]
  },
  {
   "cell_type": "code",
   "execution_count": 21,
   "id": "765e6a00-b176-4176-938d-f64289c7482a",
   "metadata": {},
   "outputs": [],
   "source": [
    "#TAPERED HAMILTONIAN -\n",
    "\n",
    "sec_array = [-1]\n",
    "#sec_array = [-1,-1,-1,-1,-1,-1]\n",
    "ham_tap_n= taper_hamiltonian.taper_it(sector=sec_array)\n",
    "number_tap_n= taper_hamiltonian.taper_it(sector=sec_array, aux_operator=total_number)\n",
    "#print('Tapered Hamiltonian:\\n')\n",
    "#print(ham_tap_p) #sector = -1"
   ]
  }
 ],
 "metadata": {
  "kernelspec": {
   "display_name": "tapenv",
   "language": "python",
   "name": "tapenv"
  },
  "language_info": {
   "codemirror_mode": {
    "name": "ipython",
    "version": 3
   },
   "file_extension": ".py",
   "mimetype": "text/x-python",
   "name": "python",
   "nbconvert_exporter": "python",
   "pygments_lexer": "ipython3",
   "version": "3.10.11"
  }
 },
 "nbformat": 4,
 "nbformat_minor": 5
}
