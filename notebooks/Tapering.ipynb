{
 "cells": [
  {
   "cell_type": "code",
   "execution_count": 1,
   "id": "0f4dafcb-4b6d-41a0-8df8-fbb861b17bcf",
   "metadata": {},
   "outputs": [],
   "source": [
    "%load_ext autoreload"
   ]
  },
  {
   "cell_type": "code",
   "execution_count": 2,
   "id": "6037b646-27df-4178-b66d-4664950522a6",
   "metadata": {},
   "outputs": [
    {
     "name": "stderr",
     "output_type": "stream",
     "text": [
      "C:\\Users\\User\\OneDrive\\Desktop\\Martina\\Tesi\\tapenv\\lib\\site-packages\\cotengra\\hyperoptimizers\\hyper.py:34: UserWarning: Couldn't import `kahypar` - skipping from default hyper optimizer and using basic `labels` method instead.\n",
      "  warnings.warn(\n"
     ]
    }
   ],
   "source": [
    "%autoreload 2\n",
    "import math\n",
    "import numpy as np\n",
    "\n",
    "from BoseHubbardHamiltonian import BoseHubbardHamiltonian\n",
    "\n",
    "from qiskit.quantum_info import Pauli, Operator\n",
    "from qiskit.quantum_info import SparsePauliOp\n",
    "\n",
    "from symmer.operators import PauliwordOp, QuantumState\n",
    "from symmer.projection import QubitTapering \n",
    "\n",
    "from qiskit_nature.second_q.hamiltonians.lattices import (\n",
    "    BoundaryCondition,\n",
    "    HyperCubicLattice,\n",
    "    Lattice,\n",
    "    LatticeDrawStyle,\n",
    "    LineLattice,\n",
    "    SquareLattice,\n",
    "    TriangularLattice,\n",
    ")\n",
    "\n",
    "from symmer.operators import IndependentOp"
   ]
  },
  {
   "cell_type": "code",
   "execution_count": 4,
   "id": "02190844-626e-4cfb-aefb-f1702b4fb9ae",
   "metadata": {},
   "outputs": [],
   "source": [
    "#lattice \n",
    "num_nodes = 1 #number of sites in the lattice \n",
    "boundary_condition = BoundaryCondition.OPEN #open lattice\n",
    "line_lattice = LineLattice(num_nodes=num_nodes, boundary_condition=boundary_condition)"
   ]
  },
  {
   "cell_type": "code",
   "execution_count": null,
   "id": "d44dd8d5-5834-42f8-ad8e-a8a097a86fa2",
   "metadata": {},
   "outputs": [],
   "source": [
    "#Hamiltonian of the system given the number of sites in the lattice and the number of qubits \n",
    "H_instance = BoseHubbardHamiltonian(1, 2, line_lattice)\n",
    "H_q = H_instance.get_H(1,1)"
   ]
  },
  {
   "cell_type": "code",
   "execution_count": null,
   "id": "97f02cfb-b1e7-4900-9b1c-abcaa9f180bc",
   "metadata": {},
   "outputs": [],
   "source": [
    "#Hamiltonian to be tapered\n",
    "H = PauliwordOp.from_qiskit(H_q)\n",
    "print(H)"
   ]
  },
  {
   "cell_type": "code",
   "execution_count": null,
   "id": "0d23bc12-dd73-44ba-b1e5-99cbab869f8b",
   "metadata": {},
   "outputs": [],
   "source": [
    "#IndipendentOp represents algebraically independent sets of Pauli operators for stabilizer manipulation/projections\n",
    "IndependentOp.symmetry_generators(H, commuting_override=True)"
   ]
  },
  {
   "cell_type": "code",
   "execution_count": 17,
   "id": "96b7bf63-378c-4fcc-b684-a63af7805f04",
   "metadata": {},
   "outputs": [
    {
     "data": {
      "text/plain": [
       "-1 IZIIII"
      ]
     },
     "execution_count": 17,
     "metadata": {},
     "output_type": "execute_result"
    }
   ],
   "source": [
    "taper_hamiltonian = QubitTapering(H)\n",
    "taper_hamiltonian.stabilizers.rotate_onto_single_qubit_paulis()"
   ]
  },
  {
   "cell_type": "code",
   "execution_count": 20,
   "id": "660f8037-f305-4265-82b2-f6c32936860c",
   "metadata": {},
   "outputs": [
    {
     "name": "stdout",
     "output_type": "stream",
     "text": [
      "We are able to taper 1 qubits from the Hamiltonian.\n",
      "\n",
      "The symmetry generators are\n",
      "\n",
      "1 IZIZIZ\n",
      "\n",
      "and may be rotated onto the single-qubit Pauli operators\n",
      "\n",
      "-1 IZIIII\n",
      "\n",
      "via a sequence of rotations e^{i pi/4 R} where\n",
      "\n",
      "R_0 =  1.000+0.000j IYIZIZ\n",
      "R_1 =  1.000+0.000j IYIIII\n"
     ]
    }
   ],
   "source": [
    "print(f'We are able to taper {taper_hamiltonian.n_taper} qubits from the Hamiltonian.\\n')\n",
    "print('The symmetry generators are\\n')\n",
    "print(taper_hamiltonian.symmetry_generators)\n",
    "print('\\nand may be rotated onto the single-qubit Pauli operators\\n')\n",
    "print(taper_hamiltonian.stabilizers.rotate_onto_single_qubit_paulis())\n",
    "print('\\nvia a sequence of rotations e^{i pi/4 R} where\\n')\n",
    "for index, (rot, angle) in enumerate(taper_hamiltonian.stabilizers.stabilizer_rotations):\n",
    "    print(f'R_{index} = {rot}')"
   ]
  },
  {
   "cell_type": "code",
   "execution_count": 25,
   "id": "9a078755-5765-48a3-aacc-32cd05f5d012",
   "metadata": {},
   "outputs": [
    {
     "name": "stdout",
     "output_type": "stream",
     "text": [
      "Tapered Hamiltonian:\n",
      "\n",
      " 6.000+0.000j IIIII +\n",
      " 1.000+0.000j IIIIZ +\n",
      "-1.000+0.000j IIIZI +\n",
      "-2.000+0.000j IIIZZ +\n",
      " 1.000+0.000j IIZII +\n",
      " 1.000-0.000j IIZIZ +\n",
      "-1.000+0.000j IZIII +\n",
      "-2.000+0.000j IZZII +\n",
      "-1.000+0.000j ZIIII +\n",
      "-2.000+0.000j ZIZIZ +\n",
      "-0.933+0.000j IIXII +\n",
      " 0.933+0.000j IIXIZ +\n",
      " 0.250-0.000j IZXII +\n",
      "-0.250+0.000j IZXIZ +\n",
      " 0.250-0.000j ZIXII +\n",
      "-0.250+0.000j ZIXIZ +\n",
      "-0.067+0.000j ZZXII +\n",
      " 0.067+0.000j ZZXIZ +\n",
      " 0.933+0.000j IIXIX +\n",
      "-0.250+0.000j IIXZX +\n",
      " 0.933+0.000j IIYIY +\n",
      "-0.250+0.000j IIYZY +\n",
      "-0.250+0.000j IZXIX +\n",
      " 0.067+0.000j IZXZX +\n",
      "-0.250+0.000j IZYIY +\n",
      " 0.067+0.000j IZYZY +\n",
      " 0.483+0.000j IIXXX +\n",
      " 0.483+0.000j IIXYY +\n",
      "-0.483+0.000j IIYXY +\n",
      " 0.483+0.000j IIYYX +\n",
      "-0.129+0.000j IZXXX +\n",
      "-0.129+0.000j IZXYY +\n",
      " 0.129+0.000j IZYXY +\n",
      "-0.129+0.000j IZYYX +\n",
      "-0.483+0.000j IXXII +\n",
      "-0.483+0.000j IXXIZ +\n",
      "-0.483+0.000j IYYII +\n",
      "-0.483+0.000j IYYIZ +\n",
      " 0.129-0.000j ZXXII +\n",
      " 0.129+0.000j ZXXIZ +\n",
      " 0.129-0.000j ZYYII +\n",
      " 0.129+0.000j ZYYIZ +\n",
      " 0.483+0.000j IXXIX +\n",
      "-0.129+0.000j IXXZX +\n",
      "-0.483+0.000j IXYIY +\n",
      " 0.129+0.000j IXYZY +\n",
      " 0.483+0.000j IYXIY +\n",
      "-0.129+0.000j IYXZY +\n",
      " 0.483+0.000j IYYIX +\n",
      "-0.129+0.000j IYYZX +\n",
      " 0.250+0.000j IXXXX +\n",
      " 0.250+0.000j IXXYY +\n",
      " 0.250+0.000j IXYXY +\n",
      "-0.250+0.000j IXYYX +\n",
      "-0.250+0.000j IYXXY +\n",
      " 0.250+0.000j IYXYX +\n",
      " 0.250+0.000j IYYXX +\n",
      " 0.250+0.000j IYYYY +\n",
      "-0.483+0.000j XIXII +\n",
      "-0.483+0.000j XIXIZ +\n",
      " 0.129-0.000j XZXII +\n",
      " 0.129+0.000j XZXIZ +\n",
      "-0.483+0.000j YIYII +\n",
      "-0.483+0.000j YIYIZ +\n",
      " 0.129-0.000j YZYII +\n",
      " 0.129+0.000j YZYIZ +\n",
      "-0.250+0.000j XXXII +\n",
      " 0.250+0.000j XXXIZ +\n",
      "-0.250+0.000j XYYII +\n",
      " 0.250+0.000j XYYIZ +\n",
      " 0.250-0.000j YXYII +\n",
      "-0.250+0.000j YXYIZ +\n",
      "-0.250+0.000j YYXII +\n",
      " 0.250+0.000j YYXIZ\n"
     ]
    }
   ],
   "source": [
    "sec_array = [1]\n",
    "ham_tap = taper_hamiltonian.taper_it(sector=sec_array)\n",
    "print('Tapered Hamiltonian:\\n')\n",
    "print(ham_tap)"
   ]
  },
  {
   "cell_type": "code",
   "execution_count": null,
   "id": "9586479e-aa10-46aa-887a-0ec5541cc780",
   "metadata": {},
   "outputs": [],
   "source": []
  }
 ],
 "metadata": {
  "kernelspec": {
   "display_name": "tapenv",
   "language": "python",
   "name": "tapenv"
  },
  "language_info": {
   "codemirror_mode": {
    "name": "ipython",
    "version": 3
   },
   "file_extension": ".py",
   "mimetype": "text/x-python",
   "name": "python",
   "nbconvert_exporter": "python",
   "pygments_lexer": "ipython3",
   "version": "3.10.11"
  }
 },
 "nbformat": 4,
 "nbformat_minor": 5
}
