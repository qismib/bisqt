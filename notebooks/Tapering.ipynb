{
 "cells": [
  {
   "cell_type": "code",
   "execution_count": 1,
   "id": "0f4dafcb-4b6d-41a0-8df8-fbb861b17bcf",
   "metadata": {},
   "outputs": [],
   "source": [
    "%reload_ext autoreload"
   ]
  },
  {
   "cell_type": "code",
   "execution_count": 2,
   "id": "6037b646-27df-4178-b66d-4664950522a6",
   "metadata": {},
   "outputs": [
    {
     "name": "stderr",
     "output_type": "stream",
     "text": [
      "C:\\Users\\User\\OneDrive\\Desktop\\Martina\\Tesi\\tapenv\\lib\\site-packages\\cotengra\\hyperoptimizers\\hyper.py:34: UserWarning: Couldn't import `kahypar` - skipping from default hyper optimizer and using basic `labels` method instead.\n",
      "  warnings.warn(\n"
     ]
    }
   ],
   "source": [
    "%autoreload 2\n",
    "import math\n",
    "import numpy as np\n",
    "\n",
    "from BoseHubbardHamiltonian_class import BoseHubbardHamiltonian\n",
    "\n",
    "from qiskit.quantum_info import Pauli, Operator\n",
    "from qiskit.quantum_info import SparsePauliOp\n",
    "\n",
    "from symmer.operators import PauliwordOp, QuantumState\n",
    "from symmer.projection import QubitTapering \n",
    "\n",
    "import rustworkx as rx\n",
    "from qiskit_nature.second_q.hamiltonians.lattices import (\n",
    "    BoundaryCondition,\n",
    "    HyperCubicLattice,\n",
    "    Lattice,\n",
    "    LatticeDrawStyle,\n",
    "    LineLattice,\n",
    "    SquareLattice,\n",
    "    TriangularLattice,\n",
    ")\n",
    "\n",
    "from symmer.operators import IndependentOp\n",
    "from scipy.linalg import eigh, eig\n",
    "import scipy.sparse"
   ]
  },
  {
   "cell_type": "code",
   "execution_count": 3,
   "id": "02190844-626e-4cfb-aefb-f1702b4fb9ae",
   "metadata": {},
   "outputs": [],
   "source": [
    "#line lattice \n",
    "num_nodes = 3 #number of sites in the lattice \n",
    "boundary_condition = BoundaryCondition.OPEN #open lattice\n",
    "line_lattice = LineLattice(num_nodes=num_nodes, boundary_condition=boundary_condition)"
   ]
  },
  {
   "cell_type": "code",
   "execution_count": 31,
   "id": "d44dd8d5-5834-42f8-ad8e-a8a097a86fa2",
   "metadata": {},
   "outputs": [],
   "source": [
    "#Hamiltonian of the system given the number of sites in the lattice and the number of qubits \n",
    "num_qubits = 2\n",
    "num_nodes = 3\n",
    "H_instance = BoseHubbardHamiltonian(num_nodes, num_qubits, line_lattice)\n",
    "\n",
    "energy_values =[3.,1.]\n",
    "energy_param_ratio = energy_values[0]/energy_values[1]\n",
    "\n",
    "H_q = H_instance.get_H(energy_values[0],energy_values[1])\n",
    "H = PauliwordOp.from_qiskit(H_q)\n",
    "#print(H)"
   ]
  },
  {
   "cell_type": "code",
   "execution_count": 32,
   "id": "a9e0223d-e09a-4b74-877d-a0e3b9a54c92",
   "metadata": {},
   "outputs": [],
   "source": [
    "H_instance.total_number\n",
    "total_number = PauliwordOp.from_qiskit(H_instance.total_number)\n",
    "#print(total_number) "
   ]
  },
  {
   "cell_type": "code",
   "execution_count": 33,
   "id": "56cb10cd-a3de-4459-9030-94fb26c1df54",
   "metadata": {},
   "outputs": [
    {
     "name": "stdout",
     "output_type": "stream",
     "text": [
      "[ 2.66453526e-15+0.j -2.24264069e+00+0.j  2.88372144e+01+0.j\n",
      " -9.93984862e+00+0.j  1.09375186e+01+0.j  4.08139542e-01+0.j\n",
      "  8.00000000e+00+0.j]\n"
     ]
    }
   ],
   "source": [
    "#Selezione autostati comuni H e total_number\n",
    "\n",
    "commutator = H*total_number-total_number*H\n",
    "commutator_sparse_matrix = commutator.to_sparse_matrix\n",
    "commutator_array = commutator_sparse_matrix.toarray()\n",
    "\n",
    "\n",
    "Commut_eigenvalues, Commut_eigenvectors =eig(commutator_array) # autovalori e autovettori del commutatore \n",
    "\n",
    "common_eigenvectors = Commut_eigenvectors[Commut_eigenvalues == 0.0] #autovettori relativi ad autovalori nulli\n",
    "\n",
    "\n",
    "H_sparse_matrix = H.to_sparse_matrix\n",
    "H_array = H_sparse_matrix.toarray()\n",
    "H_eigenvalues, H_eigenvectors =eig(H_array) #autovalori e autovettori hamiltoniana\n",
    "\n",
    "# Supponiamo di voler trovare gli autovettori fisici dell'operatore H  |v> basati sul commutatore: [H, n]|v> = 0\n",
    "# Calcoliamo il prodotto elemento per elemento tra il commutatore e gli autovettori di H\n",
    "product = commutator_sparse_matrix * H_eigenvectors\n",
    "\n",
    "# Troviamo gli indici degli autovettori di H che soddisfano la condizione di essere autovettori fisici: \n",
    "indices = np.where(np.all(product == 0, axis=1))[0]\n",
    "\n",
    "# Selezioniamo gli autovettori fisici corrispondenti agli indici trovati\n",
    "physical_eigenvectors = H_eigenvectors[indices] \n",
    "physical_eigenvalues = H_eigenvalues[indices]\n",
    "\n",
    "print(physical_eigenvalues)\n"
   ]
  },
  {
   "cell_type": "code",
   "execution_count": 34,
   "id": "e9316f80-b969-4682-bc88-b36bc277054b",
   "metadata": {},
   "outputs": [],
   "source": [
    "eigenvalues_matrix_init = []\n",
    "param_ratio_list = []"
   ]
  },
  {
   "cell_type": "code",
   "execution_count": 35,
   "id": "5516566f-e520-4c67-9f44-7e3d7226eebb",
   "metadata": {},
   "outputs": [
    {
     "name": "stdout",
     "output_type": "stream",
     "text": [
      "[3.0]\n",
      "[array([ 2.66453526e-15+0.j, -2.24264069e+00+0.j,  2.88372144e+01+0.j,\n",
      "       -9.93984862e+00+0.j,  1.09375186e+01+0.j,  4.08139542e-01+0.j,\n",
      "        8.00000000e+00+0.j])]\n"
     ]
    }
   ],
   "source": [
    "#matrice degli autovalori relativi a diversi valori di t/U\n",
    "eigenvalues_matrix_init.append(physical_eigenvalues)\n",
    "\n",
    "#vettore con i valori di t/U da mettere su asse x\n",
    "param_ratio_list.append(energy_param_ratio)\n",
    "print(param_ratio_list)\n",
    "print(eigenvalues_matrix_init)"
   ]
  },
  {
   "cell_type": "code",
   "execution_count": 36,
   "id": "a885c8db-6b29-4ee8-b035-9b16302e1877",
   "metadata": {},
   "outputs": [
    {
     "data": {
      "image/png": "[encoded data removed]",
      "text/plain": [
       "<Figure size 640x480 with 1 Axes>"
      ]
     },
     "metadata": {},
     "output_type": "display_data"
    }
   ],
   "source": [
    "import matplotlib.pyplot as plt\n",
    "import numpy as np\n",
    "\n",
    "x_values = param_ratio_list\n",
    "y_values = eigenvalues_matrix_init\n",
    "\n",
    "for i in range(len(x_values)):\n",
    "    plt.plot([x_values[i]] * len(y_values[i]), y_values[i],marker='o', linestyle='none', label=f'Dataset {i+1}')\n",
    "\n",
    "# Aggiunta di etichette agli assi\n",
    "plt.xlabel('Parametro sull\\'asse x')\n",
    "plt.ylabel('Valore')\n",
    "\n",
    "# Aggiunta di una legenda\n",
    "plt.legend()\n",
    "\n",
    "# Aggiunta di un titolo al grafico\n",
    "plt.title('Grafico dei valori in corrispondenza dei parametri sull\\'asse x')\n",
    "\n",
    "# Visualizzazione del grafico\n",
    "plt.show()"
   ]
  },
  {
   "cell_type": "code",
   "execution_count": 37,
   "id": "0d23bc12-dd73-44ba-b1e5-99cbab869f8b",
   "metadata": {},
   "outputs": [
    {
     "data": {
      "text/plain": [
       "1 IZIZIZ"
      ]
     },
     "execution_count": 37,
     "metadata": {},
     "output_type": "execute_result"
    }
   ],
   "source": [
    "#IndipendentOp represents algebraically independent sets of Pauli operators for stabilizer manipulation/projections\n",
    "IndependentOp.symmetry_generators(H, commuting_override=True)"
   ]
  },
  {
   "cell_type": "code",
   "execution_count": 38,
   "id": "96b7bf63-378c-4fcc-b684-a63af7805f04",
   "metadata": {},
   "outputs": [
    {
     "data": {
      "text/plain": [
       "-1 IZIIII"
      ]
     },
     "execution_count": 38,
     "metadata": {},
     "output_type": "execute_result"
    }
   ],
   "source": [
    "taper_hamiltonian = QubitTapering(H)\n",
    "taper_hamiltonian.stabilizers.rotate_onto_single_qubit_paulis()\n"
   ]
  },
  {
   "cell_type": "code",
   "execution_count": 39,
   "id": "9a078755-5765-48a3-aacc-32cd05f5d012",
   "metadata": {},
   "outputs": [],
   "source": [
    "#TAPERED HAMILTONIAN +\n",
    "\n",
    "sec_array = [1]\n",
    "#sec_array = [1,1,1,1,1,1]\n",
    "ham_tap_p= taper_hamiltonian.taper_it(sector=sec_array)\n",
    "number_tap_p= taper_hamiltonian.taper_it(sector=sec_array, aux_operator=total_number)\n",
    "#print(ham_tap_p)\n",
    "#print(\"\\n\",number_tapered)"
   ]
  },
  {
   "cell_type": "code",
   "execution_count": 40,
   "id": "35f9727c-4ced-4048-99e8-351b2de785d2",
   "metadata": {},
   "outputs": [
    {
     "name": "stdout",
     "output_type": "stream",
     "text": [
      "[18.72792206+0.j  6.        +0.j -1.53553878+0.j]\n"
     ]
    }
   ],
   "source": [
    "#Selezione autostati comuni H e total_number\n",
    "\n",
    "commutator_tap_p = ham_tap_p*number_tap_p-number_tap_p*ham_tap_p\n",
    "commutator_tap_p_sparse_matrix = commutator_tap_p.to_sparse_matrix\n",
    "commutator_tap_p_array = commutator_tap_p_sparse_matrix.toarray()\n",
    "\n",
    "\n",
    "Commut_eigenvalues, Commut_eigenvectors =eig(commutator_tap_p_array) # autovalori e autovettori del commutatore \n",
    "\n",
    "common_eigenvectors = Commut_eigenvectors[Commut_eigenvalues == 0.0] #autovettori relativi ad autovalori nulli\n",
    "\n",
    "\n",
    "ham_tap_p_sparse_matrix = ham_tap_p.to_sparse_matrix\n",
    "ham_tap_p_array = ham_tap_p_sparse_matrix.toarray()\n",
    "ham_tap_p_eigenvalues, ham_tap_p_eigenvectors =eig(ham_tap_p_array) #autovalori e autovettori hamiltoniana\n",
    "\n",
    "# Supponiamo di voler trovare gli autovettori fisici dell'operatore H |v> basati sul commutatore: [H, n]|v> = 0\n",
    "# Calcoliamo il prodotto elemento per elemento tra il commutatore e gli autovettori di H\n",
    "product = commutator_tap_p_sparse_matrix * ham_tap_p_eigenvectors\n",
    "\n",
    "# Troviamo gli indici degli autovettori di H che soddisfano la condizione di essere autovettori fisici: \n",
    "indices = np.where(np.all(product == 0, axis=1))[0]\n",
    "\n",
    "# Selezioniamo gli autovettori fisici corrispondenti agli indici trovati\n",
    "physical_eigenvectors_tap_p = ham_tap_p_eigenvectors[indices] \n",
    "physical_eigenvalues_tap_p = ham_tap_p_eigenvalues[indices]\n",
    "\n",
    "print(physical_eigenvalues_tap_p)"
   ]
  },
  {
   "cell_type": "code",
   "execution_count": 16,
   "id": "765e6a00-b176-4176-938d-f64289c7482a",
   "metadata": {},
   "outputs": [],
   "source": [
    "#TAPERED HAMILTONIAN -\n",
    "\n",
    "sec_array = [-1]\n",
    "#sec_array = [-1,-1,-1,-1,-1,-1]\n",
    "ham_tap_n= taper_hamiltonian.taper_it(sector=sec_array)\n",
    "number_tap_n= taper_hamiltonian.taper_it(sector=sec_array, aux_operator=total_number)\n",
    "#print('Tapered Hamiltonian:\\n')\n",
    "#print(ham_tap_p) #sector = -1"
   ]
  },
  {
   "cell_type": "code",
   "execution_count": 30,
   "id": "1a869876-1e1f-4f79-979f-5801ff1ae28f",
   "metadata": {},
   "outputs": [
    {
     "name": "stdout",
     "output_type": "stream",
     "text": [
      "[]\n"
     ]
    }
   ],
   "source": [
    "#Selezione autostati comuni H e total_number\n",
    "\n",
    "commutator_tap_n = ham_tap_n * number_tap_n - number_tap_n * ham_tap_n\n",
    "commutator_tap_n_sparse_matrix = commutator_tap_n.to_sparse_matrix\n",
    "commutator_tap_n_array = commutator_tap_n_sparse_matrix.toarray()\n",
    "\n",
    "\n",
    "Commut_eigenvalues, Commut_eigenvectors =eig(commutator_tap_n_array) # autovalori e autovettori del commutatore \n",
    "\n",
    "common_eigenvectors = Commut_eigenvectors[Commut_eigenvalues == 0.0] #autovettori relativi ad autovalori nulli\n",
    "\n",
    "\n",
    "ham_tap_n_sparse_matrix = ham_tap_n.to_sparse_matrix\n",
    "ham_tap_n_array = ham_tap_n_sparse_matrix.toarray()\n",
    "ham_tap_n_eigenvalues, ham_tap_n_eigenvectors =eig(ham_tap_n_array) #autovalori e autovettori hamiltoniana\n",
    "\n",
    "# Supponiamo di voler trovare gli autovettori fisici dell'operatore H |v> basati sul commutatore: [H, n]|v> = 0\n",
    "# Calcoliamo il prodotto elemento per elemento tra il commutatore e gli autovettori di H\n",
    "product = commutator_tap_n_sparse_matrix * ham_tap_n_eigenvectors\n",
    "\n",
    "# Troviamo gli indici degli autovettori di H che soddisfano la condizione di essere autovettori fisici: \n",
    "indices = np.where(np.all(product == 0, axis=1))[0]\n",
    "\n",
    "# Selezioniamo gli autovettori fisici corrispondenti agli indici trovati\n",
    "physical_eigenvectors_tap_n = ham_tap_n_eigenvectors[indices] \n",
    "physical_eigenvalues_tap_n = ham_tap_n_eigenvalues[indices]\n",
    "\n",
    "print(physical_eigenvalues_tap_n)"
   ]
  },
  {
   "cell_type": "code",
   "execution_count": null,
   "id": "2a999207-b389-4c2d-95e7-7db3be9b4177",
   "metadata": {},
   "outputs": [],
   "source": [
    "import matplotlib.pyplot as plt\n",
    "import numpy as np\n",
    "\n",
    "# Data for plotting\n",
    "t = np.arange(0.0, 64 , 1)\n",
    "s1 = merged_eigenvalues_sorted\n",
    "s2 = eigenvalues_sorted \n",
    "\n",
    "fig, ax = plt.subplots()\n",
    "\n",
    "# Primo set di punti\n",
    "ax.scatter(t, s1, label='H_rid', color = 'b', marker='o', s=15)\n",
    "\n",
    "# Sovrapponi il secondo set di punti\n",
    "ax.scatter(t, s2, label='H_model', color = 'r',  marker='x', s = 120)\n",
    "\n",
    "ax.set(xlabel='', ylabel='Hamiltonian eigenvalues',\n",
    "       title='Eigenvalues of model Hamiltonian H and tapered Hamiltonian H_rid')\n",
    "ax.grid()\n",
    "ax.legend()  # Aggiungi la legenda per distinguere i set di punti\n",
    "\n",
    "ax.set_xticks([])\n",
    "\n",
    "\n",
    "fig.savefig(\"test.png\")\n",
    "plt.show()"
   ]
  },
  {
   "cell_type": "code",
   "execution_count": null,
   "id": "be0c40b8-722f-4291-b2b0-e72937ea2a20",
   "metadata": {},
   "outputs": [],
   "source": []
  }
 ],
 "metadata": {
  "kernelspec": {
   "display_name": "tapenv",
   "language": "python",
   "name": "tapenv"
  },
  "language_info": {
   "codemirror_mode": {
    "name": "ipython",
    "version": 3
   },
   "file_extension": ".py",
   "mimetype": "text/x-python",
   "name": "python",
   "nbconvert_exporter": "python",
   "pygments_lexer": "ipython3",
   "version": "3.10.11"
  }
 },
 "nbformat": 4,
 "nbformat_minor": 5
}
