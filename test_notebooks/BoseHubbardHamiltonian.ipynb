{
 "cells": [
  {
   "cell_type": "code",
   "execution_count": 89,
   "id": "cf191ec8-6d7d-42d4-a25e-3d293b7dcae7",
   "metadata": {},
   "outputs": [],
   "source": [
    "import math\n",
    "import numpy as np"
   ]
  },
  {
   "cell_type": "code",
   "execution_count": 90,
   "id": "d4463d8b-6add-499e-a6b8-9956851fd08d",
   "metadata": {},
   "outputs": [],
   "source": [
    "from qiskit.quantum_info import Pauli, Operator\n",
    "from qiskit.quantum_info import SparsePauliOp"
   ]
  },
  {
   "cell_type": "code",
   "execution_count": 91,
   "id": "1996f8ab-b437-43ca-a2b2-84758739f833",
   "metadata": {},
   "outputs": [],
   "source": [
    "from qiskit_nature.second_q.hamiltonians.lattices import (\n",
    "    BoundaryCondition,\n",
    "    HyperCubicLattice,\n",
    "    Lattice,\n",
    "    LatticeDrawStyle,\n",
    "    LineLattice,\n",
    "    SquareLattice,\n",
    "    TriangularLattice,\n",
    ")\n",
    "\n",
    "num_nodes = 3\n",
    "boundary_condition = BoundaryCondition.OPEN\n",
    "line_lattice = LineLattice(num_nodes=num_nodes, boundary_condition=boundary_condition)"
   ]
  },
  {
   "cell_type": "code",
   "execution_count": 127,
   "id": "76faa90d-751f-4b90-a47b-efa5d0926d3d",
   "metadata": {},
   "outputs": [],
   "source": [
    "#Bose-Hubbard Hamiltonian of a system of bosons in a three-site lattice\n",
    "#binary mapping\n",
    "\n",
    "class BoseHubbardHamiltonian:\n",
    "        \n",
    "    def __init__(self, n_sites, single_site_qubits, geometry):\n",
    "        \n",
    "        # n_sites (int) = number of sites in the lattice\n",
    "        # single_site_qubits (int) = number of qubits used to describe each site\n",
    "        # geometry (LineLattice or another type of lattice) = how the sites are distributed in space and their connectivity \n",
    "              \n",
    "        self.n_sites = n_sites\n",
    "        self.ss_q = single_site_qubits\n",
    "        self.geometry = geometry.to_adjacency_matrix() # the adjacency matrix gives informations about the connectivity of the sites\n",
    "\n",
    "\n",
    "    #creation, annihilation, number and identity operators on single_site_qubits number of qubits\n",
    "    def second_quantization_ops(self):\n",
    "       \n",
    "        dim =  2**(self.ss_q)\n",
    "        create_matrix = np.zeros((dim,dim),dtype=float)\n",
    "        \n",
    "        for i in range(dim-1): \n",
    "            create_matrix[i+1][i] = math.sqrt(i+1)\n",
    "        \n",
    "        I_q_matrix = np.eye(dim, dtype=float)\n",
    "        I_q_Op = Operator(I_q_matrix)\n",
    "        \n",
    "        # from matrix to Operator and from Operator to SparsePauliOp\n",
    "        createOp = Operator(create_matrix)\n",
    "        self.create = SparsePauliOp.from_operator(createOp)\n",
    "     \n",
    "        self.annihilate = self.create.adjoint()\n",
    "        self.number = self.create.compose(self.annihilate).simplify()\n",
    "        \n",
    "        self.I_q =  SparsePauliOp.from_operator(I_q_Op)\n",
    "\n",
    "        \n",
    "    #removal of the diagonal terms in the adjacency matrix of the lattice\n",
    "    def lattice_connectivity(self):\n",
    "\n",
    "        for i in range(self.n_sites):\n",
    "            for j in range(self.n_sites):\n",
    "                if i == j:\n",
    "                    self.geometry[i][j] = 0\n",
    "        \n",
    "\n",
    "    #kinetic energy operator\n",
    "    def kinetic_energy_op(self): \n",
    "\n",
    "        Op = [self.I_q, self.I_q, self.I_q]\n",
    "        kin = []\n",
    "            \n",
    "        for i in range(self.ss_q):\n",
    "            for j in range(self.ss_q):\n",
    "       \n",
    "                if self.geometry[i][j] == 1:\n",
    "                    Op[i] = self.create\n",
    "                    Op[j] = self.annihilate\n",
    "                    \n",
    "                    (kin).append( Op[0]^Op[1]^Op[2] )\n",
    "\n",
    "                    Op[i] = self.I_q\n",
    "                    Op[j] = self.I_q\n",
    "\n",
    "        self.Kinetic = sum(kin).simplify()\n",
    "        return self.Kinetic\n",
    "\n",
    "        \n",
    "             \n",
    "    #potential energy (total interaction term) operator    \n",
    "    def potential_energy_op(self):\n",
    "        \n",
    "        self.I_3 = self.I_q^self.I_q^self.I_q\n",
    "        Op = [self.I_q, self.I_q, self.I_q]\n",
    "        \n",
    "        number_tot = []   #this list contains the number operators that act on the entire system of bosons distributed among n_sites sites.. \n",
    "        potent = []       #this lists contains the interaction terms of the Hamiltonian\n",
    "           \n",
    "        for i in range(self.n_sites): \n",
    "            Op[i] = self.number\n",
    "       \n",
    "            number_tot.append( Op[0]^Op[1]^Op[2] )\n",
    "                    \n",
    "            Op[i] = self.I_q\n",
    "                    \n",
    "        for i in range(n_sites):\n",
    "            potent.append( number_tot[i].compose(number_tot[i] - self.I_3))   \n",
    "\n",
    "        self.Potential = sum(potent).simplify() \n",
    "        return self.Kinetic\n",
    "\n",
    "    def get_H(self, J, U):\n",
    "        \n",
    "        BoseHubbardHamiltonian.second_quantization_ops(self)\n",
    "        BoseHubbardHamiltonian.lattice_connectivity(self)\n",
    "        BoseHubbardHamiltonian.kinetic_energy_op(self)\n",
    "        BoseHubbardHamiltonian.potential_energy_op(self)\n",
    "             \n",
    "        self.U = U\n",
    "        self.J = J\n",
    "        H =  J*self.Kinetic + U*self.Potential\n",
    "        return H\n"
   ]
  },
  {
   "cell_type": "code",
   "execution_count": 129,
   "id": "85754bc9-8589-4505-8aa2-c78119dfb7ec",
   "metadata": {},
   "outputs": [
    {
     "name": "stdout",
     "output_type": "stream",
     "text": [
      "SparsePauliOp(['IXIXII', 'IXXXII', 'IXYYII', 'IXZXII', 'IYIYII', 'IYXYII', 'IYYXII', 'IYZYII', 'XXIXII', 'XXXXII', 'XXYYII', 'XXZXII', 'XYIYII', 'XYXYII', 'XYYXII', 'XYZYII', 'YXIYII', 'YXXYII', 'YXYXII', 'YXZYII', 'YYIXII', 'YYXXII', 'YYYYII', 'YYZXII', 'ZXIXII', 'ZXXXII', 'ZXYYII', 'ZXZXII', 'ZYIYII', 'ZYXYII', 'ZYYXII', 'ZYZYII', 'IIIIII', 'IZIIII', 'ZZIIII', 'ZIIIII', 'IIIZII', 'IIZZII', 'IIZIII', 'IIIIIZ', 'IIIIZZ', 'IIIIZI'],\n",
      "              coeffs=[ 0.9330127 +0.j,  0.48296291+0.j,  0.48296291+0.j, -0.25      +0.j,\n",
      "  0.9330127 +0.j, -0.48296291+0.j,  0.48296291+0.j, -0.25      +0.j,\n",
      "  0.48296291+0.j,  0.25      +0.j,  0.25      +0.j, -0.12940952+0.j,\n",
      " -0.48296291+0.j,  0.25      +0.j, -0.25      +0.j,  0.12940952+0.j,\n",
      "  0.48296291+0.j, -0.25      +0.j,  0.25      +0.j, -0.12940952+0.j,\n",
      "  0.48296291+0.j,  0.25      +0.j,  0.25      +0.j, -0.12940952+0.j,\n",
      " -0.25      +0.j, -0.12940952+0.j, -0.12940952+0.j,  0.0669873 +0.j,\n",
      " -0.25      +0.j,  0.12940952+0.j, -0.12940952+0.j,  0.0669873 +0.j,\n",
      "  6.        +0.j,  1.        +0.j, -2.        +0.j, -1.        +0.j,\n",
      "  1.        +0.j, -2.        +0.j, -1.        +0.j,  1.        +0.j,\n",
      " -2.        +0.j, -1.        +0.j])\n"
     ]
    }
   ],
   "source": [
    "H_instance = BoseHubbardHamiltonian(3, 2, line_lattice)\n",
    "H = BoseHubbardHamiltonian.get_H(H,1,1)\n",
    "\n",
    "print(H)\n"
   ]
  },
  {
   "cell_type": "code",
   "execution_count": null,
   "id": "b4f7c857-d4cb-448d-9343-e7461d2f7cf5",
   "metadata": {},
   "outputs": [],
   "source": [
    "#CONTROLLI"
   ]
  },
  {
   "cell_type": "code",
   "execution_count": 109,
   "id": "a6bcf5b4-e12b-47f0-bb7d-18b2c398d2d5",
   "metadata": {},
   "outputs": [
    {
     "name": "stdout",
     "output_type": "stream",
     "text": [
      "[[0.         0.         0.         0.        ]\n",
      " [1.         0.         0.         0.        ]\n",
      " [0.         1.41421356 0.         0.        ]\n",
      " [0.         0.         1.73205081 0.        ]]\n"
     ]
    }
   ],
   "source": [
    "#creation of the square matrix that represents the bosonic creation operator\n",
    "\n",
    "n_qubits = 2 #single site qubits\n",
    "\n",
    "dim =  2**(n_qubits)\n",
    "create_matrix = np.zeros((dim,dim),dtype=float)\n",
    "\n",
    "for i in range(dim-1): \n",
    "    create_matrix[i+1][i] = math.sqrt(i+1)\n",
    "\n",
    "\n",
    "print(create_matrix) "
   ]
  },
  {
   "cell_type": "code",
   "execution_count": 31,
   "id": "4159cc32-c3ac-4cdc-ade5-0019a7ad8ef8",
   "metadata": {},
   "outputs": [
    {
     "name": "stdout",
     "output_type": "stream",
     "text": [
      "[[1. 0. 0. 0.]\n",
      " [0. 1. 0. 0.]\n",
      " [0. 0. 1. 0.]\n",
      " [0. 0. 0. 1.]]\n"
     ]
    }
   ],
   "source": [
    "#identità su single_sites_qubits\n",
    "\n",
    "I_q_matrix = np.eye(dim, dtype=float)\n",
    "print(I_q_matrix)\n",
    "\n"
   ]
  },
  {
   "cell_type": "code",
   "execution_count": 32,
   "id": "8e39f591-d312-4a9b-8ee1-c8d3a72b347c",
   "metadata": {},
   "outputs": [
    {
     "name": "stdout",
     "output_type": "stream",
     "text": [
      "SparsePauliOp(['IX', 'IY', 'XX', 'XY', 'YX', 'YY', 'ZX', 'ZY'],\n",
      "              coeffs=[ 0.6830127 +0.j        ,  0.        -0.6830127j ,  0.35355339+0.j        ,\n",
      "  0.        +0.35355339j,  0.        -0.35355339j,  0.35355339+0.j        ,\n",
      " -0.1830127 +0.j        ,  0.        +0.1830127j ])\n",
      "\n",
      " SparsePauliOp(['IX', 'IY', 'XX', 'XY', 'YX', 'YY', 'ZX', 'ZY'],\n",
      "              coeffs=[ 0.6830127 -0.j        ,  0.        +0.6830127j ,  0.35355339-0.j        ,\n",
      "  0.        -0.35355339j,  0.        +0.35355339j,  0.35355339-0.j        ,\n",
      " -0.1830127 -0.j        ,  0.        -0.1830127j ])\n",
      "\n",
      " SparsePauliOp(['II', 'IZ', 'ZZ'],\n",
      "              coeffs=[ 1.5+0.j,  0.5+0.j, -1. +0.j])\n",
      "\n",
      " SparsePauliOp(['II'],\n",
      "              coeffs=[1.+0.j])\n"
     ]
    }
   ],
   "source": [
    "#from matrix to operator\n",
    "\n",
    "createOp = Operator(create_matrix)\n",
    "create = SparsePauliOp.from_operator(createOp)\n",
    "\n",
    "annihilate = create.adjoint()\n",
    "\n",
    "number = create.compose(annihilate).simplify()\n",
    "\n",
    "I_q_Op = Operator(I_q_matrix)\n",
    "I_q =  SparsePauliOp.from_operator(I_q_Op)\n",
    "\n",
    "print(create)\n",
    "print(\"\\n\",annihilate)\n",
    "print(\"\\n\", number)\n",
    "print(\"\\n\",I_q)"
   ]
  },
  {
   "cell_type": "code",
   "execution_count": 33,
   "id": "31b1dec8-9b78-49d6-88c9-cbdc34d08141",
   "metadata": {},
   "outputs": [
    {
     "name": "stdout",
     "output_type": "stream",
     "text": [
      "[[1. 1. 0.]\n",
      " [1. 1. 1.]\n",
      " [0. 1. 1.]]\n",
      "\n",
      " (3, 3)\n",
      "\n",
      " [[0. 1. 0.]\n",
      " [1. 0. 1.]\n",
      " [0. 1. 0.]]\n"
     ]
    }
   ],
   "source": [
    "geometry = line_lattice.to_adjacency_matrix()\n",
    "print(geometry)\n",
    "struct = geometry.shape\n",
    "n_sites = struct[0] \n",
    "print(\"\\n\", struct)\n",
    "\n",
    "for i in range(n_sites):\n",
    "    for j in range(n_sites):\n",
    "        if i == j:\n",
    "            geometry[i][j] = 0\n",
    "\n",
    "print(\"\\n\", geometry) "
   ]
  },
  {
   "cell_type": "code",
   "execution_count": 35,
   "id": "72fa5f17-a57a-4fbb-958f-ad8b3be2a6d1",
   "metadata": {},
   "outputs": [
    {
     "name": "stdout",
     "output_type": "stream",
     "text": [
      "SparsePauliOp(['IXIXII', 'IXXXII', 'IXYYII', 'IXZXII', 'IYIYII', 'IYXYII', 'IYYXII', 'IYZYII', 'XXIXII', 'XXXXII', 'XXYYII', 'XXZXII', 'XYIYII', 'XYXYII', 'XYYXII', 'XYZYII', 'YXIYII', 'YXXYII', 'YXYXII', 'YXZYII', 'YYIXII', 'YYXXII', 'YYYYII', 'YYZXII', 'ZXIXII', 'ZXXXII', 'ZXYYII', 'ZXZXII', 'ZYIYII', 'ZYXYII', 'ZYYXII', 'ZYZYII', 'IIIXIX', 'IIIXXX', 'IIIXYY', 'IIIXZX', 'IIIYIY', 'IIIYXY', 'IIIYYX', 'IIIYZY', 'IIXXIX', 'IIXXXX', 'IIXXYY', 'IIXXZX', 'IIXYIY', 'IIXYXY', 'IIXYYX', 'IIXYZY', 'IIYXIY', 'IIYXXY', 'IIYXYX', 'IIYXZY', 'IIYYIX', 'IIYYXX', 'IIYYYY', 'IIYYZX', 'IIZXIX', 'IIZXXX', 'IIZXYY', 'IIZXZX', 'IIZYIY', 'IIZYXY', 'IIZYYX', 'IIZYZY'],\n",
      "              coeffs=[ 0.9330127 +0.j,  0.48296291+0.j,  0.48296291+0.j, -0.25      +0.j,\n",
      "  0.9330127 +0.j, -0.48296291+0.j,  0.48296291+0.j, -0.25      +0.j,\n",
      "  0.48296291+0.j,  0.25      +0.j,  0.25      +0.j, -0.12940952+0.j,\n",
      " -0.48296291+0.j,  0.25      +0.j, -0.25      +0.j,  0.12940952+0.j,\n",
      "  0.48296291+0.j, -0.25      +0.j,  0.25      +0.j, -0.12940952+0.j,\n",
      "  0.48296291+0.j,  0.25      +0.j,  0.25      +0.j, -0.12940952+0.j,\n",
      " -0.25      +0.j, -0.12940952+0.j, -0.12940952+0.j,  0.0669873 +0.j,\n",
      " -0.25      +0.j,  0.12940952+0.j, -0.12940952+0.j,  0.0669873 +0.j,\n",
      "  0.9330127 +0.j,  0.48296291+0.j,  0.48296291+0.j, -0.25      +0.j,\n",
      "  0.9330127 +0.j, -0.48296291+0.j,  0.48296291+0.j, -0.25      +0.j,\n",
      "  0.48296291+0.j,  0.25      +0.j,  0.25      +0.j, -0.12940952+0.j,\n",
      " -0.48296291+0.j,  0.25      +0.j, -0.25      +0.j,  0.12940952+0.j,\n",
      "  0.48296291+0.j, -0.25      +0.j,  0.25      +0.j, -0.12940952+0.j,\n",
      "  0.48296291+0.j,  0.25      +0.j,  0.25      +0.j, -0.12940952+0.j,\n",
      " -0.25      +0.j, -0.12940952+0.j, -0.12940952+0.j,  0.0669873 +0.j,\n",
      " -0.25      +0.j,  0.12940952+0.j, -0.12940952+0.j,  0.0669873 +0.j])\n"
     ]
    }
   ],
   "source": [
    "#kinetic energy\n",
    "\n",
    "Op = [I_q, I_q, I_q]\n",
    "\n",
    "kin = []\n",
    "for i in range(n_sites):\n",
    "    for j in range(n_sites):\n",
    "       \n",
    "        if geometry[i][j] == 1:\n",
    "            Op[i] = create\n",
    "            Op[j] = annihilate\n",
    "                      \n",
    "            kin.append( Op[0]^Op[1]^Op[2] )\n",
    "\n",
    "            Op[i] = I_q\n",
    "            Op[j] = I_q\n",
    "\n",
    "Kinetic = sum(kin).simplify()\n",
    "print(Kinetic)"
   ]
  },
  {
   "cell_type": "code",
   "execution_count": 36,
   "id": "0bd17351-7951-4465-9806-d1a5c84decf0",
   "metadata": {},
   "outputs": [
    {
     "name": "stdout",
     "output_type": "stream",
     "text": [
      "SparsePauliOp(['IIIIII', 'IZIIII', 'ZZIIII', 'ZIIIII', 'IIIZII', 'IIZZII', 'IIZIII', 'IIIIIZ', 'IIIIZZ', 'IIIIZI'],\n",
      "              coeffs=[ 6.+0.j,  1.+0.j, -2.+0.j, -1.+0.j,  1.+0.j, -2.+0.j, -1.+0.j,  1.+0.j,\n",
      " -2.+0.j, -1.+0.j])\n"
     ]
    }
   ],
   "source": [
    "#potential energy\n",
    "\n",
    "I_3 = I_q^I_q^I_q\n",
    "Op = [I_q, I_q, I_q]\n",
    "number_tot = []\n",
    "potent = []\n",
    "           \n",
    "for i in range(n_sites): \n",
    "        Op[i] = number\n",
    "       \n",
    "        number_tot.append((Op[0]^Op[1]^Op[2]))\n",
    "                    \n",
    "        Op[i] = I_q\n",
    "                    \n",
    "for i in range(n_sites):\n",
    "        potent.append( number_tot[i].compose(number_tot[i] - I_3))\n",
    "\n",
    "Potential_op = sum(potent).simplify()\n",
    "print(Potential_op)"
   ]
  }
 ],
 "metadata": {
  "kernelspec": {
   "display_name": "tapenv",
   "language": "python",
   "name": "tapenv"
  },
  "language_info": {
   "codemirror_mode": {
    "name": "ipython",
    "version": 3
   },
   "file_extension": ".py",
   "mimetype": "text/x-python",
   "name": "python",
   "nbconvert_exporter": "python",
   "pygments_lexer": "ipython3",
   "version": "3.10.11"
  }
 },
 "nbformat": 4,
 "nbformat_minor": 5
}
