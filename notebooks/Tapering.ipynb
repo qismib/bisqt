{
 "cells": [
  {
   "cell_type": "code",
   "execution_count": 1,
   "id": "0f4dafcb-4b6d-41a0-8df8-fbb861b17bcf",
   "metadata": {},
   "outputs": [],
   "source": [
    "%reload_ext autoreload"
   ]
  },
  {
   "cell_type": "code",
   "execution_count": 2,
   "id": "6037b646-27df-4178-b66d-4664950522a6",
   "metadata": {},
   "outputs": [
    {
     "name": "stderr",
     "output_type": "stream",
     "text": [
      "C:\\Users\\User\\OneDrive\\Desktop\\Martina\\Tesi\\tapenv\\lib\\site-packages\\cotengra\\hyperoptimizers\\hyper.py:34: UserWarning: Couldn't import `kahypar` - skipping from default hyper optimizer and using basic `labels` method instead.\n",
      "  warnings.warn(\n"
     ]
    }
   ],
   "source": [
    "%autoreload 2\n",
    "import math\n",
    "import numpy as np\n",
    "\n",
    "from bisqt import BoseHubbardHamiltonian\n",
    "\n",
    "from qiskit.quantum_info import Pauli, Operator\n",
    "from qiskit.quantum_info import SparsePauliOp\n",
    "\n",
    "from symmer.operators import PauliwordOp, QuantumState\n",
    "from symmer.projection import QubitTapering \n",
    "\n",
    "import rustworkx as rx\n",
    "from qiskit_nature.second_q.hamiltonians.lattices import (\n",
    "    BoundaryCondition,\n",
    "    HyperCubicLattice,\n",
    "    Lattice,\n",
    "    LatticeDrawStyle,\n",
    "    LineLattice,\n",
    "    SquareLattice,\n",
    "    TriangularLattice,\n",
    ")\n",
    "\n",
    "from symmer.operators import IndependentOp\n",
    "from scipy.linalg import eigh, eig\n",
    "import scipy.sparse"
   ]
  },
  {
   "cell_type": "code",
   "execution_count": 3,
   "id": "02190844-626e-4cfb-aefb-f1702b4fb9ae",
   "metadata": {},
   "outputs": [],
   "source": [
    "#line lattice \n",
    "num_nodes = 3 #number of sites in the lattice \n",
    "boundary_condition = BoundaryCondition.OPEN #open lattice\n",
    "line_lattice = LineLattice(num_nodes=num_nodes, boundary_condition=boundary_condition)"
   ]
  },
  {
   "cell_type": "code",
   "execution_count": 4,
   "id": "d44dd8d5-5834-42f8-ad8e-a8a097a86fa2",
   "metadata": {},
   "outputs": [
    {
     "ename": "AssertionError",
     "evalue": "Must supply a PauliSumOp",
     "output_type": "error",
     "traceback": [
      "\u001b[1;31m---------------------------------------------------------------------------\u001b[0m",
      "\u001b[1;31mAssertionError\u001b[0m                            Traceback (most recent call last)",
      "Cell \u001b[1;32mIn[4], line 9\u001b[0m\n\u001b[0;32m      6\u001b[0m energy_values \u001b[38;5;241m=\u001b[39m[\u001b[38;5;241m0.8\u001b[39m,\u001b[38;5;241m1.\u001b[39m]\n\u001b[0;32m      8\u001b[0m H_q \u001b[38;5;241m=\u001b[39m H_instance\u001b[38;5;241m.\u001b[39mget_H(energy_values[\u001b[38;5;241m0\u001b[39m],energy_values[\u001b[38;5;241m1\u001b[39m])\n\u001b[1;32m----> 9\u001b[0m H \u001b[38;5;241m=\u001b[39m \u001b[43mPauliwordOp\u001b[49m\u001b[38;5;241;43m.\u001b[39;49m\u001b[43mfrom_qiskit\u001b[49m\u001b[43m(\u001b[49m\u001b[43mH_q\u001b[49m\u001b[43m)\u001b[49m\n\u001b[0;32m     10\u001b[0m \u001b[38;5;66;03m#print(H)\u001b[39;00m\n",
      "File \u001b[1;32m~\\OneDrive\\Desktop\\Martina\\Tesi\\tapenv\\lib\\site-packages\\symmer\\operators\\base.py:207\u001b[0m, in \u001b[0;36mPauliwordOp.from_qiskit\u001b[1;34m(cls, qiskit_op)\u001b[0m\n\u001b[0;32m    194\u001b[0m \u001b[38;5;129m@classmethod\u001b[39m\n\u001b[0;32m    195\u001b[0m \u001b[38;5;28;01mdef\u001b[39;00m \u001b[38;5;21mfrom_qiskit\u001b[39m(\u001b[38;5;28mcls\u001b[39m,\n\u001b[0;32m    196\u001b[0m         qiskit_op: ibm_PauliSumOp\n\u001b[0;32m    197\u001b[0m     ) \u001b[38;5;241m-\u001b[39m\u001b[38;5;241m>\u001b[39m \u001b[38;5;124m\"\u001b[39m\u001b[38;5;124mPauliwordOp\u001b[39m\u001b[38;5;124m\"\u001b[39m:\n\u001b[0;32m    198\u001b[0m \u001b[38;5;250m    \u001b[39m\u001b[38;5;124;03m\"\"\" \u001b[39;00m\n\u001b[0;32m    199\u001b[0m \u001b[38;5;124;03m    Initialize a PauliwordOp from Qiskit's PauliSumOp representation.\u001b[39;00m\n\u001b[0;32m    200\u001b[0m \n\u001b[1;32m   (...)\u001b[0m\n\u001b[0;32m    205\u001b[0m \u001b[38;5;124;03m        PauliwordOp: A new PauliwordOp object.\u001b[39;00m\n\u001b[0;32m    206\u001b[0m \u001b[38;5;124;03m    \"\"\"\u001b[39;00m\n\u001b[1;32m--> 207\u001b[0m     \u001b[38;5;28;01massert\u001b[39;00m(\u001b[38;5;28misinstance\u001b[39m(qiskit_op, ibm_PauliSumOp)), \u001b[38;5;124m'\u001b[39m\u001b[38;5;124mMust supply a PauliSumOp\u001b[39m\u001b[38;5;124m'\u001b[39m\n\u001b[0;32m    208\u001b[0m     operator_dict \u001b[38;5;241m=\u001b[39m PauliSumOp_to_dict(\n\u001b[0;32m    209\u001b[0m         qiskit_op\n\u001b[0;32m    210\u001b[0m     )\n\u001b[0;32m    211\u001b[0m     \u001b[38;5;28;01mreturn\u001b[39;00m \u001b[38;5;28mcls\u001b[39m\u001b[38;5;241m.\u001b[39mfrom_dictionary(operator_dict)\n",
      "\u001b[1;31mAssertionError\u001b[0m: Must supply a PauliSumOp"
     ]
    }
   ],
   "source": [
    "#Hamiltonian of the system given the number of sites in the lattice and the number of qubits\n",
    "num_qubits = 2\n",
    "num_nodes = 3\n",
    "H_instance = BoseHubbardHamiltonian(num_nodes, num_qubits, line_lattice)\n",
    "\n",
    "energy_values =[0.8,1.]\n",
    "\n",
    "H_q = H_instance.get_H(energy_values[0],energy_values[1])\n",
    "H = PauliwordOp.from_qiskit(H_q)\n",
    "#print(H)"
   ]
  },
  {
   "cell_type": "code",
   "execution_count": null,
   "id": "0d23bc12-dd73-44ba-b1e5-99cbab869f8b",
   "metadata": {},
   "outputs": [],
   "source": [
    "#TAPERING\n",
    "\n",
    "#IndipendentOp represents algebraically independent sets of Pauli operators for stabilizer manipulation/projections\n",
    "IndependentOp.symmetry_generators(H)"
   ]
  },
  {
   "cell_type": "code",
   "execution_count": null,
   "id": "96b7bf63-378c-4fcc-b684-a63af7805f04",
   "metadata": {},
   "outputs": [],
   "source": [
    "taper_hamiltonian = QubitTapering(H, 'X')\n",
    "taper_hamiltonian.stabilizers.rotate_onto_single_qubit_paulis()\n"
   ]
  },
  {
   "cell_type": "code",
   "execution_count": null,
   "id": "9a078755-5765-48a3-aacc-32cd05f5d012",
   "metadata": {},
   "outputs": [],
   "source": [
    "#TAPERED HAMILTONIAN +\n",
    "\n",
    "sec_array = [1]\n",
    "#sec_array = [1,1,1,1,1,1]\n",
    "ham_tap_p= taper_hamiltonian.taper_it(sector=sec_array)\n",
    "\n",
    "\n"
   ]
  },
  {
   "cell_type": "code",
   "execution_count": null,
   "id": "765e6a00-b176-4176-938d-f64289c7482a",
   "metadata": {},
   "outputs": [],
   "source": [
    "#TAPERED HAMILTONIAN -\n",
    "\n",
    "sec_array = [-1]\n",
    "#sec_array = [-1,-1,-1,-1,-1,-1]\n",
    "ham_tap_n= taper_hamiltonian.taper_it(sector=sec_array)\n"
   ]
  }
 ],
 "metadata": {
  "kernelspec": {
   "display_name": "tapenv",
   "language": "python",
   "name": "tapenv"
  },
  "language_info": {
   "codemirror_mode": {
    "name": "ipython",
    "version": 3
   },
   "file_extension": ".py",
   "mimetype": "text/x-python",
   "name": "python",
   "nbconvert_exporter": "python",
   "pygments_lexer": "ipython3",
   "version": "3.10.11"
  }
 },
 "nbformat": 4,
 "nbformat_minor": 5
}
